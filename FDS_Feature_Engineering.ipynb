{
  "nbformat": 4,
  "nbformat_minor": 0,
  "metadata": {
    "colab": {
      "name": "Untitled0.ipynb",
      "provenance": [],
      "collapsed_sections": [],
      "toc_visible": true
    },
    "kernelspec": {
      "name": "python3",
      "display_name": "Python 3"
    }
  },
  "cells": [
    {
      "cell_type": "code",
      "metadata": {
        "id": "nY29n_WKCAfd",
        "colab_type": "code",
        "colab": {
          "base_uri": "https://localhost:8080/",
          "height": 34
        },
        "outputId": "d3dd7c05-e031-4a58-f301-d319609766e2"
      },
      "source": [
        "from google.colab import drive\n",
        "drive.mount('/content/drive')"
      ],
      "execution_count": 2,
      "outputs": [
        {
          "output_type": "stream",
          "text": [
            "Drive already mounted at /content/drive; to attempt to forcibly remount, call drive.mount(\"/content/drive\", force_remount=True).\n"
          ],
          "name": "stdout"
        }
      ]
    },
    {
      "cell_type": "code",
      "metadata": {
        "id": "x9dvq4Iq-T57",
        "colab_type": "code",
        "colab": {
          "base_uri": "https://localhost:8080/",
          "height": 70
        },
        "outputId": "41059a3d-c06f-4227-e026-b045c7b2104e"
      },
      "source": [
        "import pandas as pd\n",
        "import numpy as np\n",
        "import matplotlib.pyplot as plt\n",
        "import seaborn as sns\n",
        "from sklearn.metrics import roc_curve, roc_auc_score, accuracy_score, confusion_matrix\n",
        "from sklearn.preprocessing import MinMaxScaler, LabelEncoder\n",
        "from lightgbm import LGBMClassifier"
      ],
      "execution_count": 3,
      "outputs": [
        {
          "output_type": "stream",
          "text": [
            "/usr/local/lib/python3.6/dist-packages/statsmodels/tools/_testing.py:19: FutureWarning: pandas.util.testing is deprecated. Use the functions in the public API at pandas.testing instead.\n",
            "  import pandas.util.testing as tm\n"
          ],
          "name": "stderr"
        }
      ]
    },
    {
      "cell_type": "code",
      "metadata": {
        "id": "1LgcEnfJ-mTt",
        "colab_type": "code",
        "colab": {}
      },
      "source": [
        "app_test = pd.read_csv(\"/content/drive/My Drive/FDS/application_test.csv\")\n",
        "app_train = pd.read_csv(\"/content/drive/My Drive/FDS/application_train.csv\")"
      ],
      "execution_count": 4,
      "outputs": []
    },
    {
      "cell_type": "code",
      "metadata": {
        "id": "UwpD-fDcAUMd",
        "colab_type": "code",
        "colab": {}
      },
      "source": [
        "bureau=pd.read_csv(\"//content/drive/My Drive/FDS/bureau.csv\")\n",
        "samp_sub=pd.read_csv(\"/content/drive/My Drive/FDS/sample_submission.csv\")\n",
        "br_bal=pd.read_csv(\"/content/drive/My Drive/FDS/bureau_balance.csv\")\n",
        "ccb=pd.read_csv(\"/content/drive/My Drive/FDS/credit_card_balance.csv\")\n",
        "prev_appl=pd.read_csv(\"/content/drive/My Drive/FDS/previous_application.csv\")\n",
        "pos=pd.read_csv(\"/content/drive/My Drive/FDS/POS_CASH_balance.csv\")\n",
        "inp=pd.read_csv(\"/content/drive/My Drive/FDS/installments_payments.csv\")"
      ],
      "execution_count": 5,
      "outputs": []
    },
    {
      "cell_type": "code",
      "metadata": {
        "id": "1bdMZiDve_E6",
        "colab_type": "code",
        "colab": {}
      },
      "source": [
        "# Examine the missing values.\n",
        "# Please note, we will just check the information on the missing values. \n",
        "# We will not remove any column as of now because we don't know which column is going to be important in future.\n",
        "# Function to detect missing values.\n",
        "def missing_info(dataframe):\n",
        "    count=dataframe.isnull().sum()\n",
        "  # standardised score of the missing values:\n",
        "    mean_null=sum(count)/len(dataframe.columns)\n",
        "    var_null=sum(((count-mean_null)**2))/len(dataframe.columns)\n",
        "  # Make a table with the results\n",
        "    metric=((count-mean_null)/var_null)*1000000\n",
        "    result=pd.concat([count,metric],axis=1)\n",
        "    result.columns=[\"count\",\"standardised_score\"]\n",
        "    result=result[result.iloc[:,1] != 0].sort_values(\n",
        "          'count', ascending=False).round(1)\n",
        "    return(result.head())"
      ],
      "execution_count": 6,
      "outputs": []
    },
    {
      "cell_type": "code",
      "metadata": {
        "id": "24_t_4xbe_Wy",
        "colab_type": "code",
        "colab": {
          "base_uri": "https://localhost:8080/",
          "height": 195
        },
        "outputId": "77aed186-6d29-4198-9e9c-c29225a8d177"
      },
      "source": [
        "missing_info(app_train)"
      ],
      "execution_count": 7,
      "outputs": [
        {
          "output_type": "execute_result",
          "data": {
            "text/html": [
              "<div>\n",
              "<style scoped>\n",
              "    .dataframe tbody tr th:only-of-type {\n",
              "        vertical-align: middle;\n",
              "    }\n",
              "\n",
              "    .dataframe tbody tr th {\n",
              "        vertical-align: top;\n",
              "    }\n",
              "\n",
              "    .dataframe thead th {\n",
              "        text-align: right;\n",
              "    }\n",
              "</style>\n",
              "<table border=\"1\" class=\"dataframe\">\n",
              "  <thead>\n",
              "    <tr style=\"text-align: right;\">\n",
              "      <th></th>\n",
              "      <th>count</th>\n",
              "      <th>standardised_score</th>\n",
              "    </tr>\n",
              "  </thead>\n",
              "  <tbody>\n",
              "    <tr>\n",
              "      <th>COMMONAREA_MEDI</th>\n",
              "      <td>214865</td>\n",
              "      <td>18.4</td>\n",
              "    </tr>\n",
              "    <tr>\n",
              "      <th>COMMONAREA_AVG</th>\n",
              "      <td>214865</td>\n",
              "      <td>18.4</td>\n",
              "    </tr>\n",
              "    <tr>\n",
              "      <th>COMMONAREA_MODE</th>\n",
              "      <td>214865</td>\n",
              "      <td>18.4</td>\n",
              "    </tr>\n",
              "    <tr>\n",
              "      <th>NONLIVINGAPARTMENTS_MODE</th>\n",
              "      <td>213514</td>\n",
              "      <td>18.2</td>\n",
              "    </tr>\n",
              "    <tr>\n",
              "      <th>NONLIVINGAPARTMENTS_AVG</th>\n",
              "      <td>213514</td>\n",
              "      <td>18.2</td>\n",
              "    </tr>\n",
              "  </tbody>\n",
              "</table>\n",
              "</div>"
            ],
            "text/plain": [
              "                           count  standardised_score\n",
              "COMMONAREA_MEDI           214865                18.4\n",
              "COMMONAREA_AVG            214865                18.4\n",
              "COMMONAREA_MODE           214865                18.4\n",
              "NONLIVINGAPARTMENTS_MODE  213514                18.2\n",
              "NONLIVINGAPARTMENTS_AVG   213514                18.2"
            ]
          },
          "metadata": {
            "tags": []
          },
          "execution_count": 7
        }
      ]
    },
    {
      "cell_type": "code",
      "metadata": {
        "id": "vvVtvUhXe_mg",
        "colab_type": "code",
        "colab": {}
      },
      "source": [
        "# The first hurdle we face is due to the columns with several categories. So, first we have to encode those columns to proceed further.\n",
        "# Before that, let's have a look at the column types of the data sets.\n",
        "\n",
        "#################### Function to check the column types #######################\n",
        "def coltyp(dataframe):\n",
        "    type=dataframe.dtypes.value_counts()\n",
        "  #we will see number of unique categories for each object\n",
        "    cat= dataframe.select_dtypes('object').apply(pd.Series.nunique,axis=0)\n",
        "    print(type)\n",
        "    return cat"
      ],
      "execution_count": 8,
      "outputs": []
    },
    {
      "cell_type": "code",
      "metadata": {
        "id": "Zg-5kErde_kj",
        "colab_type": "code",
        "colab": {
          "base_uri": "https://localhost:8080/",
          "height": 370
        },
        "outputId": "bdabff0b-f809-48be-fb4e-80f4fd953dff"
      },
      "source": [
        "coltyp(app_train)"
      ],
      "execution_count": 9,
      "outputs": [
        {
          "output_type": "stream",
          "text": [
            "float64    65\n",
            "int64      41\n",
            "object     16\n",
            "dtype: int64\n"
          ],
          "name": "stdout"
        },
        {
          "output_type": "execute_result",
          "data": {
            "text/plain": [
              "NAME_CONTRACT_TYPE             2\n",
              "CODE_GENDER                    3\n",
              "FLAG_OWN_CAR                   2\n",
              "FLAG_OWN_REALTY                2\n",
              "NAME_TYPE_SUITE                7\n",
              "NAME_INCOME_TYPE               8\n",
              "NAME_EDUCATION_TYPE            5\n",
              "NAME_FAMILY_STATUS             6\n",
              "NAME_HOUSING_TYPE              6\n",
              "OCCUPATION_TYPE               18\n",
              "WEEKDAY_APPR_PROCESS_START     7\n",
              "ORGANIZATION_TYPE             58\n",
              "FONDKAPREMONT_MODE             4\n",
              "HOUSETYPE_MODE                 3\n",
              "WALLSMATERIAL_MODE             7\n",
              "EMERGENCYSTATE_MODE            2\n",
              "dtype: int64"
            ]
          },
          "metadata": {
            "tags": []
          },
          "execution_count": 9
        }
      ]
    },
    {
      "cell_type": "code",
      "metadata": {
        "id": "kg5KV-Par7Hd",
        "colab_type": "code",
        "colab": {
          "base_uri": "https://localhost:8080/",
          "height": 402
        },
        "outputId": "cbbd8bdd-dc58-45fa-a96e-30e42130fe27"
      },
      "source": [
        "column =app_train[['DAYS_EMPLOYED', 'DAYS_BIRTH', 'AMT_CREDIT', 'AMT_ANNUITY', 'AMT_GOODS_PRICE', 'AMT_INCOME_TOTAL']]\n",
        "column"
      ],
      "execution_count": 16,
      "outputs": [
        {
          "output_type": "execute_result",
          "data": {
            "text/html": [
              "<div>\n",
              "<style scoped>\n",
              "    .dataframe tbody tr th:only-of-type {\n",
              "        vertical-align: middle;\n",
              "    }\n",
              "\n",
              "    .dataframe tbody tr th {\n",
              "        vertical-align: top;\n",
              "    }\n",
              "\n",
              "    .dataframe thead th {\n",
              "        text-align: right;\n",
              "    }\n",
              "</style>\n",
              "<table border=\"1\" class=\"dataframe\">\n",
              "  <thead>\n",
              "    <tr style=\"text-align: right;\">\n",
              "      <th></th>\n",
              "      <th>DAYS_EMPLOYED</th>\n",
              "      <th>DAYS_BIRTH</th>\n",
              "      <th>AMT_CREDIT</th>\n",
              "      <th>AMT_ANNUITY</th>\n",
              "      <th>AMT_GOODS_PRICE</th>\n",
              "      <th>AMT_INCOME_TOTAL</th>\n",
              "    </tr>\n",
              "  </thead>\n",
              "  <tbody>\n",
              "    <tr>\n",
              "      <th>0</th>\n",
              "      <td>-637</td>\n",
              "      <td>-9461</td>\n",
              "      <td>406597.5</td>\n",
              "      <td>24700.5</td>\n",
              "      <td>351000.0</td>\n",
              "      <td>202500.0</td>\n",
              "    </tr>\n",
              "    <tr>\n",
              "      <th>1</th>\n",
              "      <td>-1188</td>\n",
              "      <td>-16765</td>\n",
              "      <td>1293502.5</td>\n",
              "      <td>35698.5</td>\n",
              "      <td>1129500.0</td>\n",
              "      <td>270000.0</td>\n",
              "    </tr>\n",
              "    <tr>\n",
              "      <th>2</th>\n",
              "      <td>-225</td>\n",
              "      <td>-19046</td>\n",
              "      <td>135000.0</td>\n",
              "      <td>6750.0</td>\n",
              "      <td>135000.0</td>\n",
              "      <td>67500.0</td>\n",
              "    </tr>\n",
              "    <tr>\n",
              "      <th>3</th>\n",
              "      <td>-3039</td>\n",
              "      <td>-19005</td>\n",
              "      <td>312682.5</td>\n",
              "      <td>29686.5</td>\n",
              "      <td>297000.0</td>\n",
              "      <td>135000.0</td>\n",
              "    </tr>\n",
              "    <tr>\n",
              "      <th>4</th>\n",
              "      <td>-3038</td>\n",
              "      <td>-19932</td>\n",
              "      <td>513000.0</td>\n",
              "      <td>21865.5</td>\n",
              "      <td>513000.0</td>\n",
              "      <td>121500.0</td>\n",
              "    </tr>\n",
              "    <tr>\n",
              "      <th>...</th>\n",
              "      <td>...</td>\n",
              "      <td>...</td>\n",
              "      <td>...</td>\n",
              "      <td>...</td>\n",
              "      <td>...</td>\n",
              "      <td>...</td>\n",
              "    </tr>\n",
              "    <tr>\n",
              "      <th>307506</th>\n",
              "      <td>-236</td>\n",
              "      <td>-9327</td>\n",
              "      <td>254700.0</td>\n",
              "      <td>27558.0</td>\n",
              "      <td>225000.0</td>\n",
              "      <td>157500.0</td>\n",
              "    </tr>\n",
              "    <tr>\n",
              "      <th>307507</th>\n",
              "      <td>365243</td>\n",
              "      <td>-20775</td>\n",
              "      <td>269550.0</td>\n",
              "      <td>12001.5</td>\n",
              "      <td>225000.0</td>\n",
              "      <td>72000.0</td>\n",
              "    </tr>\n",
              "    <tr>\n",
              "      <th>307508</th>\n",
              "      <td>-7921</td>\n",
              "      <td>-14966</td>\n",
              "      <td>677664.0</td>\n",
              "      <td>29979.0</td>\n",
              "      <td>585000.0</td>\n",
              "      <td>153000.0</td>\n",
              "    </tr>\n",
              "    <tr>\n",
              "      <th>307509</th>\n",
              "      <td>-4786</td>\n",
              "      <td>-11961</td>\n",
              "      <td>370107.0</td>\n",
              "      <td>20205.0</td>\n",
              "      <td>319500.0</td>\n",
              "      <td>171000.0</td>\n",
              "    </tr>\n",
              "    <tr>\n",
              "      <th>307510</th>\n",
              "      <td>-1262</td>\n",
              "      <td>-16856</td>\n",
              "      <td>675000.0</td>\n",
              "      <td>49117.5</td>\n",
              "      <td>675000.0</td>\n",
              "      <td>157500.0</td>\n",
              "    </tr>\n",
              "  </tbody>\n",
              "</table>\n",
              "<p>307511 rows × 6 columns</p>\n",
              "</div>"
            ],
            "text/plain": [
              "        DAYS_EMPLOYED  DAYS_BIRTH  ...  AMT_GOODS_PRICE  AMT_INCOME_TOTAL\n",
              "0                -637       -9461  ...         351000.0          202500.0\n",
              "1               -1188      -16765  ...        1129500.0          270000.0\n",
              "2                -225      -19046  ...         135000.0           67500.0\n",
              "3               -3039      -19005  ...         297000.0          135000.0\n",
              "4               -3038      -19932  ...         513000.0          121500.0\n",
              "...               ...         ...  ...              ...               ...\n",
              "307506           -236       -9327  ...         225000.0          157500.0\n",
              "307507         365243      -20775  ...         225000.0           72000.0\n",
              "307508          -7921      -14966  ...         585000.0          153000.0\n",
              "307509          -4786      -11961  ...         319500.0          171000.0\n",
              "307510          -1262      -16856  ...         675000.0          157500.0\n",
              "\n",
              "[307511 rows x 6 columns]"
            ]
          },
          "metadata": {
            "tags": []
          },
          "execution_count": 16
        }
      ]
    },
    {
      "cell_type": "code",
      "metadata": {
        "id": "9o_XQOc7nvbO",
        "colab_type": "code",
        "colab": {}
      },
      "source": [
        "feat_train = pd.DataFrame()\n",
        "feat_train['employment_to_birth_ratio'] = app_train['DAYS_EMPLOYED'] /app_train['DAYS_BIRTH']\n",
        "\n",
        "feat_train['credit_to_annuity_ratio'] = app_train['AMT_CREDIT'] / app_train['AMT_ANNUITY']\n",
        "\n",
        "feat_train['credit_to_goods_ratio'] = app_train['AMT_CREDIT'] / app_train['AMT_GOODS_PRICE']\n",
        "\n",
        "feat_train['credit_to_income_ratio'] = app_train['AMT_CREDIT'] /  app_train['AMT_INCOME_TOTAL']\n",
        "\n",
        "app_train=pd.concat([app_train,feat_train],axis=1)"
      ],
      "execution_count": 9,
      "outputs": []
    },
    {
      "cell_type": "code",
      "metadata": {
        "id": "qKQvgTVXn5Jw",
        "colab_type": "code",
        "colab": {}
      },
      "source": [
        "feat_test = pd.DataFrame()\n",
        "feat_test['employment_to_birth_ratio'] = app_test['DAYS_EMPLOYED'] /app_test['DAYS_BIRTH']\n",
        "\n",
        "feat_test['credit_to_annuity_ratio'] = app_test['AMT_CREDIT'] / app_test['AMT_ANNUITY']\n",
        "\n",
        "feat_test['credit_to_goods_ratio'] = app_test['AMT_CREDIT'] / app_test['AMT_GOODS_PRICE']\n",
        "\n",
        "feat_test['credit_to_income_ratio'] = app_test['AMT_CREDIT'] /  app_test['AMT_INCOME_TOTAL']\n",
        "\n",
        "app_test=pd.concat([app_test,feat_test],axis=1)"
      ],
      "execution_count": 10,
      "outputs": []
    },
    {
      "cell_type": "code",
      "metadata": {
        "id": "0pe-FxI5e_f6",
        "colab_type": "code",
        "colab": {}
      },
      "source": [
        "# Now we have to conduct the one hot encoding:\n",
        "\n",
        "from sklearn.preprocessing import LabelEncoder as le\n",
        "def onehot(dataframe):\n",
        "    df=pd.get_dummies(dataframe)\n",
        "    print(df.shape)\n",
        "    return(df)"
      ],
      "execution_count": 11,
      "outputs": []
    },
    {
      "cell_type": "code",
      "metadata": {
        "id": "3PTRn8jne_eF",
        "colab_type": "code",
        "colab": {
          "base_uri": "https://localhost:8080/",
          "height": 34
        },
        "outputId": "5a1a4a57-1626-4dda-e859-8cf67bf2875a"
      },
      "source": [
        "app_train=onehot(app_train)"
      ],
      "execution_count": 12,
      "outputs": [
        {
          "output_type": "stream",
          "text": [
            "(307511, 250)\n"
          ],
          "name": "stdout"
        }
      ]
    },
    {
      "cell_type": "code",
      "metadata": {
        "id": "j6TnBznhiAM5",
        "colab_type": "code",
        "colab": {
          "base_uri": "https://localhost:8080/",
          "height": 34
        },
        "outputId": "209e3974-7785-42c7-f05f-f46178ba8e6d"
      },
      "source": [
        "app_test = onehot(app_test)"
      ],
      "execution_count": 13,
      "outputs": [
        {
          "output_type": "stream",
          "text": [
            "(48744, 246)\n"
          ],
          "name": "stdout"
        }
      ]
    },
    {
      "cell_type": "code",
      "metadata": {
        "id": "8XiC8erfiAJf",
        "colab_type": "code",
        "colab": {}
      },
      "source": [
        "from sklearn.impute import SimpleImputer\n",
        "imputer = SimpleImputer(missing_values=np.nan, strategy='mean')\n",
        "imputer.fit(app_train)\n",
        "app_train.loc[:]=imputer.transform(app_train)"
      ],
      "execution_count": 14,
      "outputs": []
    },
    {
      "cell_type": "code",
      "metadata": {
        "id": "BXQO-XrRjEAm",
        "colab_type": "code",
        "colab": {}
      },
      "source": [
        "imputer = SimpleImputer(missing_values=np.nan, strategy='mean')\n",
        "imputer.fit(app_test)\n",
        "app_test.loc[:]=imputer.transform(app_test)"
      ],
      "execution_count": 15,
      "outputs": []
    },
    {
      "cell_type": "code",
      "metadata": {
        "id": "M_nUO0NUiAEQ",
        "colab_type": "code",
        "colab": {
          "base_uri": "https://localhost:8080/",
          "height": 50
        },
        "outputId": "9fdab98c-47e5-484b-f2df-4a7f45267d1b"
      },
      "source": [
        "app_train_target = app_train['TARGET']\n",
        "app_train, app_test = app_train.align(app_test,join='inner',axis=1)\n",
        "print('Training dataset shape: ', app_train.shape)\n",
        "print('Testing dataset shape: ',app_test.shape)\n",
        "app_train['TARGET'] = app_train_target"
      ],
      "execution_count": 16,
      "outputs": [
        {
          "output_type": "stream",
          "text": [
            "Training dataset shape:  (307511, 246)\n",
            "Testing dataset shape:  (48744, 246)\n"
          ],
          "name": "stdout"
        }
      ]
    },
    {
      "cell_type": "markdown",
      "metadata": {
        "id": "Xekrd00ZxwKA",
        "colab_type": "text"
      },
      "source": [
        "#Working with bureau_balance and bureau dataset"
      ]
    },
    {
      "cell_type": "code",
      "metadata": {
        "id": "93276wkVkSez",
        "colab_type": "code",
        "colab": {
          "base_uri": "https://localhost:8080/",
          "height": 195
        },
        "outputId": "44739fb5-75c7-4f4e-8f64-bfe8afcbb6b1"
      },
      "source": [
        "br_bal.head()"
      ],
      "execution_count": 26,
      "outputs": [
        {
          "output_type": "execute_result",
          "data": {
            "text/html": [
              "<div>\n",
              "<style scoped>\n",
              "    .dataframe tbody tr th:only-of-type {\n",
              "        vertical-align: middle;\n",
              "    }\n",
              "\n",
              "    .dataframe tbody tr th {\n",
              "        vertical-align: top;\n",
              "    }\n",
              "\n",
              "    .dataframe thead th {\n",
              "        text-align: right;\n",
              "    }\n",
              "</style>\n",
              "<table border=\"1\" class=\"dataframe\">\n",
              "  <thead>\n",
              "    <tr style=\"text-align: right;\">\n",
              "      <th></th>\n",
              "      <th>SK_ID_BUREAU</th>\n",
              "      <th>MONTHS_BALANCE</th>\n",
              "      <th>STATUS</th>\n",
              "    </tr>\n",
              "  </thead>\n",
              "  <tbody>\n",
              "    <tr>\n",
              "      <th>0</th>\n",
              "      <td>5715448</td>\n",
              "      <td>0</td>\n",
              "      <td>C</td>\n",
              "    </tr>\n",
              "    <tr>\n",
              "      <th>1</th>\n",
              "      <td>5715448</td>\n",
              "      <td>-1</td>\n",
              "      <td>C</td>\n",
              "    </tr>\n",
              "    <tr>\n",
              "      <th>2</th>\n",
              "      <td>5715448</td>\n",
              "      <td>-2</td>\n",
              "      <td>C</td>\n",
              "    </tr>\n",
              "    <tr>\n",
              "      <th>3</th>\n",
              "      <td>5715448</td>\n",
              "      <td>-3</td>\n",
              "      <td>C</td>\n",
              "    </tr>\n",
              "    <tr>\n",
              "      <th>4</th>\n",
              "      <td>5715448</td>\n",
              "      <td>-4</td>\n",
              "      <td>C</td>\n",
              "    </tr>\n",
              "  </tbody>\n",
              "</table>\n",
              "</div>"
            ],
            "text/plain": [
              "   SK_ID_BUREAU  MONTHS_BALANCE STATUS\n",
              "0       5715448               0      C\n",
              "1       5715448              -1      C\n",
              "2       5715448              -2      C\n",
              "3       5715448              -3      C\n",
              "4       5715448              -4      C"
            ]
          },
          "metadata": {
            "tags": []
          },
          "execution_count": 26
        }
      ]
    },
    {
      "cell_type": "markdown",
      "metadata": {
        "id": "xMzaSaw7s6FD",
        "colab_type": "text"
      },
      "source": [
        "Counting the values of all the status:\\\n",
        "C = Closed\\\n",
        "X = Status unknown\\\n",
        "0 = Current status, no delay\\\n",
        "1 = 1 month delay\\\n",
        "2 = 2 month delay\\\n",
        "3 = 3 month delay\\\n",
        "4 = 4 month delay\n"
      ]
    },
    {
      "cell_type": "code",
      "metadata": {
        "id": "SMm0v9WokScV",
        "colab_type": "code",
        "colab": {
          "base_uri": "https://localhost:8080/",
          "height": 168
        },
        "outputId": "577a7aad-c7f4-487b-acd8-2c69178b233b"
      },
      "source": [
        "br_bal.STATUS.value_counts()"
      ],
      "execution_count": 27,
      "outputs": [
        {
          "output_type": "execute_result",
          "data": {
            "text/plain": [
              "C    13646993\n",
              "0     7499507\n",
              "X     5810482\n",
              "1      242347\n",
              "5       62406\n",
              "2       23419\n",
              "3        8924\n",
              "4        5847\n",
              "Name: STATUS, dtype: int64"
            ]
          },
          "metadata": {
            "tags": []
          },
          "execution_count": 27
        }
      ]
    },
    {
      "cell_type": "markdown",
      "metadata": {
        "id": "r33W1gdGuM-f",
        "colab_type": "text"
      },
      "source": [
        "Grouping the status with respect to the SK_ID_BUREAU of bureau_balance and then using unstack method to reshape the dataset formed by grouping. Some more columns are added by calculating the size, minimum and maximum value with respect to \"SK_ID_BUREAU\" using groupby function. Then the obtained unstack data is merged with bureau dataset."
      ]
    },
    {
      "cell_type": "code",
      "metadata": {
        "id": "hAVEIZ57kSWb",
        "colab_type": "code",
        "colab": {}
      },
      "source": [
        "bureau_counts = br_bal.groupby('SK_ID_BUREAU')['STATUS'].value_counts(normalize = False)\n",
        "bureau_counts_unstacked = bureau_counts.unstack('STATUS')"
      ],
      "execution_count": 17,
      "outputs": []
    },
    {
      "cell_type": "code",
      "metadata": {
        "id": "FdSQrTa8A9hx",
        "colab_type": "code",
        "colab": {}
      },
      "source": [
        "bureau_counts_unstacked.columns = ['STATUS_0', 'STATUS_1','STATUS_2','STATUS_3','STATUS_4','STATUS_5','STATUS_C','STATUS_X',]\n",
        "bureau_counts_unstacked['MONTHS_COUNT'] = br_bal.groupby('SK_ID_BUREAU')['MONTHS_BALANCE'].size()\n",
        "bureau_counts_unstacked['MONTHS_MIN'] = br_bal.groupby('SK_ID_BUREAU')['MONTHS_BALANCE'].min()\n",
        "bureau_counts_unstacked['MONTHS_MAX'] = br_bal.groupby('SK_ID_BUREAU')['MONTHS_BALANCE'].max()"
      ],
      "execution_count": 18,
      "outputs": []
    },
    {
      "cell_type": "code",
      "metadata": {
        "id": "W88BWf5nrM_4",
        "colab_type": "code",
        "colab": {}
      },
      "source": [
        "bureau = bureau.join(bureau_counts_unstacked, how='left', on='SK_ID_BUREAU')"
      ],
      "execution_count": 19,
      "outputs": []
    },
    {
      "cell_type": "code",
      "metadata": {
        "id": "1qQ0PoggrM-G",
        "colab_type": "code",
        "colab": {
          "base_uri": "https://localhost:8080/",
          "height": 34
        },
        "outputId": "5a10bcf0-377d-4e75-a528-4ec86e44bcbc"
      },
      "source": [
        "bureau.shape"
      ],
      "execution_count": 20,
      "outputs": [
        {
          "output_type": "execute_result",
          "data": {
            "text/plain": [
              "(1716428, 28)"
            ]
          },
          "metadata": {
            "tags": []
          },
          "execution_count": 20
        }
      ]
    },
    {
      "cell_type": "code",
      "metadata": {
        "id": "eaVPjSDErM77",
        "colab_type": "code",
        "colab": {
          "base_uri": "https://localhost:8080/",
          "height": 151
        },
        "outputId": "547317cd-fdf8-4c7c-8088-20b95ec5be57"
      },
      "source": [
        "coltyp(bureau)"
      ],
      "execution_count": 32,
      "outputs": [
        {
          "output_type": "stream",
          "text": [
            "float64    19\n",
            "int64       6\n",
            "object      3\n",
            "dtype: int64\n"
          ],
          "name": "stdout"
        },
        {
          "output_type": "execute_result",
          "data": {
            "text/plain": [
              "CREDIT_ACTIVE       4\n",
              "CREDIT_CURRENCY     4\n",
              "CREDIT_TYPE        15\n",
              "dtype: int64"
            ]
          },
          "metadata": {
            "tags": []
          },
          "execution_count": 32
        }
      ]
    },
    {
      "cell_type": "code",
      "metadata": {
        "id": "6T1LSBZDsIXR",
        "colab_type": "code",
        "colab": {
          "base_uri": "https://localhost:8080/",
          "height": 34
        },
        "outputId": "001dc158-9a35-4481-c4ab-2e480490fb70"
      },
      "source": [
        "bureau=onehot(bureau)"
      ],
      "execution_count": 21,
      "outputs": [
        {
          "output_type": "stream",
          "text": [
            "(1716428, 48)\n"
          ],
          "name": "stdout"
        }
      ]
    },
    {
      "cell_type": "markdown",
      "metadata": {
        "id": "wit0b-sTwasK",
        "colab_type": "text"
      },
      "source": [
        "Further bureau dataset has been grouped by \"SK_ID_CURR\" and obtained the average. We can drop the \"SK_ID_BUREAU\" as the unique id \"SK_ID_CURR\" is enough to identify the corresponding values."
      ]
    },
    {
      "cell_type": "code",
      "metadata": {
        "id": "fICE9554sIVH",
        "colab_type": "code",
        "colab": {}
      },
      "source": [
        "bureau_avg = bureau.groupby('SK_ID_CURR').mean()\n",
        "bureau_avg['bureau_count'] = bureau[['SK_ID_BUREAU', 'SK_ID_CURR']].groupby('SK_ID_CURR').count()['SK_ID_BUREAU']\n",
        "del bureau_avg['SK_ID_BUREAU']"
      ],
      "execution_count": 22,
      "outputs": []
    },
    {
      "cell_type": "markdown",
      "metadata": {
        "id": "DMgOMlMlByIs",
        "colab_type": "text"
      },
      "source": [
        "#Working with previous_application"
      ]
    },
    {
      "cell_type": "code",
      "metadata": {
        "id": "uTbe35DRsITD",
        "colab_type": "code",
        "colab": {
          "base_uri": "https://localhost:8080/",
          "height": 282
        },
        "outputId": "11b52df9-e620-4508-e130-0d389a2fa6fd"
      },
      "source": [
        "prev_appl.head()"
      ],
      "execution_count": null,
      "outputs": [
        {
          "output_type": "execute_result",
          "data": {
            "text/html": [
              "<div>\n",
              "<style scoped>\n",
              "    .dataframe tbody tr th:only-of-type {\n",
              "        vertical-align: middle;\n",
              "    }\n",
              "\n",
              "    .dataframe tbody tr th {\n",
              "        vertical-align: top;\n",
              "    }\n",
              "\n",
              "    .dataframe thead th {\n",
              "        text-align: right;\n",
              "    }\n",
              "</style>\n",
              "<table border=\"1\" class=\"dataframe\">\n",
              "  <thead>\n",
              "    <tr style=\"text-align: right;\">\n",
              "      <th></th>\n",
              "      <th>SK_ID_PREV</th>\n",
              "      <th>SK_ID_CURR</th>\n",
              "      <th>NAME_CONTRACT_TYPE</th>\n",
              "      <th>AMT_ANNUITY</th>\n",
              "      <th>AMT_APPLICATION</th>\n",
              "      <th>AMT_CREDIT</th>\n",
              "      <th>AMT_DOWN_PAYMENT</th>\n",
              "      <th>AMT_GOODS_PRICE</th>\n",
              "      <th>WEEKDAY_APPR_PROCESS_START</th>\n",
              "      <th>HOUR_APPR_PROCESS_START</th>\n",
              "      <th>FLAG_LAST_APPL_PER_CONTRACT</th>\n",
              "      <th>NFLAG_LAST_APPL_IN_DAY</th>\n",
              "      <th>RATE_DOWN_PAYMENT</th>\n",
              "      <th>RATE_INTEREST_PRIMARY</th>\n",
              "      <th>RATE_INTEREST_PRIVILEGED</th>\n",
              "      <th>NAME_CASH_LOAN_PURPOSE</th>\n",
              "      <th>NAME_CONTRACT_STATUS</th>\n",
              "      <th>DAYS_DECISION</th>\n",
              "      <th>NAME_PAYMENT_TYPE</th>\n",
              "      <th>CODE_REJECT_REASON</th>\n",
              "      <th>NAME_TYPE_SUITE</th>\n",
              "      <th>NAME_CLIENT_TYPE</th>\n",
              "      <th>NAME_GOODS_CATEGORY</th>\n",
              "      <th>NAME_PORTFOLIO</th>\n",
              "      <th>NAME_PRODUCT_TYPE</th>\n",
              "      <th>CHANNEL_TYPE</th>\n",
              "      <th>SELLERPLACE_AREA</th>\n",
              "      <th>NAME_SELLER_INDUSTRY</th>\n",
              "      <th>CNT_PAYMENT</th>\n",
              "      <th>NAME_YIELD_GROUP</th>\n",
              "      <th>PRODUCT_COMBINATION</th>\n",
              "      <th>DAYS_FIRST_DRAWING</th>\n",
              "      <th>DAYS_FIRST_DUE</th>\n",
              "      <th>DAYS_LAST_DUE_1ST_VERSION</th>\n",
              "      <th>DAYS_LAST_DUE</th>\n",
              "      <th>DAYS_TERMINATION</th>\n",
              "      <th>NFLAG_INSURED_ON_APPROVAL</th>\n",
              "    </tr>\n",
              "  </thead>\n",
              "  <tbody>\n",
              "    <tr>\n",
              "      <th>0</th>\n",
              "      <td>2030495</td>\n",
              "      <td>271877</td>\n",
              "      <td>Consumer loans</td>\n",
              "      <td>1730.430</td>\n",
              "      <td>17145.0</td>\n",
              "      <td>17145.0</td>\n",
              "      <td>0.0</td>\n",
              "      <td>17145.0</td>\n",
              "      <td>SATURDAY</td>\n",
              "      <td>15</td>\n",
              "      <td>Y</td>\n",
              "      <td>1</td>\n",
              "      <td>0.0</td>\n",
              "      <td>0.182832</td>\n",
              "      <td>0.867336</td>\n",
              "      <td>XAP</td>\n",
              "      <td>Approved</td>\n",
              "      <td>-73</td>\n",
              "      <td>Cash through the bank</td>\n",
              "      <td>XAP</td>\n",
              "      <td>NaN</td>\n",
              "      <td>Repeater</td>\n",
              "      <td>Mobile</td>\n",
              "      <td>POS</td>\n",
              "      <td>XNA</td>\n",
              "      <td>Country-wide</td>\n",
              "      <td>35</td>\n",
              "      <td>Connectivity</td>\n",
              "      <td>12.0</td>\n",
              "      <td>middle</td>\n",
              "      <td>POS mobile with interest</td>\n",
              "      <td>365243.0</td>\n",
              "      <td>-42.0</td>\n",
              "      <td>300.0</td>\n",
              "      <td>-42.0</td>\n",
              "      <td>-37.0</td>\n",
              "      <td>0.0</td>\n",
              "    </tr>\n",
              "    <tr>\n",
              "      <th>1</th>\n",
              "      <td>2802425</td>\n",
              "      <td>108129</td>\n",
              "      <td>Cash loans</td>\n",
              "      <td>25188.615</td>\n",
              "      <td>607500.0</td>\n",
              "      <td>679671.0</td>\n",
              "      <td>NaN</td>\n",
              "      <td>607500.0</td>\n",
              "      <td>THURSDAY</td>\n",
              "      <td>11</td>\n",
              "      <td>Y</td>\n",
              "      <td>1</td>\n",
              "      <td>NaN</td>\n",
              "      <td>NaN</td>\n",
              "      <td>NaN</td>\n",
              "      <td>XNA</td>\n",
              "      <td>Approved</td>\n",
              "      <td>-164</td>\n",
              "      <td>XNA</td>\n",
              "      <td>XAP</td>\n",
              "      <td>Unaccompanied</td>\n",
              "      <td>Repeater</td>\n",
              "      <td>XNA</td>\n",
              "      <td>Cash</td>\n",
              "      <td>x-sell</td>\n",
              "      <td>Contact center</td>\n",
              "      <td>-1</td>\n",
              "      <td>XNA</td>\n",
              "      <td>36.0</td>\n",
              "      <td>low_action</td>\n",
              "      <td>Cash X-Sell: low</td>\n",
              "      <td>365243.0</td>\n",
              "      <td>-134.0</td>\n",
              "      <td>916.0</td>\n",
              "      <td>365243.0</td>\n",
              "      <td>365243.0</td>\n",
              "      <td>1.0</td>\n",
              "    </tr>\n",
              "    <tr>\n",
              "      <th>2</th>\n",
              "      <td>2523466</td>\n",
              "      <td>122040</td>\n",
              "      <td>Cash loans</td>\n",
              "      <td>15060.735</td>\n",
              "      <td>112500.0</td>\n",
              "      <td>136444.5</td>\n",
              "      <td>NaN</td>\n",
              "      <td>112500.0</td>\n",
              "      <td>TUESDAY</td>\n",
              "      <td>11</td>\n",
              "      <td>Y</td>\n",
              "      <td>1</td>\n",
              "      <td>NaN</td>\n",
              "      <td>NaN</td>\n",
              "      <td>NaN</td>\n",
              "      <td>XNA</td>\n",
              "      <td>Approved</td>\n",
              "      <td>-301</td>\n",
              "      <td>Cash through the bank</td>\n",
              "      <td>XAP</td>\n",
              "      <td>Spouse, partner</td>\n",
              "      <td>Repeater</td>\n",
              "      <td>XNA</td>\n",
              "      <td>Cash</td>\n",
              "      <td>x-sell</td>\n",
              "      <td>Credit and cash offices</td>\n",
              "      <td>-1</td>\n",
              "      <td>XNA</td>\n",
              "      <td>12.0</td>\n",
              "      <td>high</td>\n",
              "      <td>Cash X-Sell: high</td>\n",
              "      <td>365243.0</td>\n",
              "      <td>-271.0</td>\n",
              "      <td>59.0</td>\n",
              "      <td>365243.0</td>\n",
              "      <td>365243.0</td>\n",
              "      <td>1.0</td>\n",
              "    </tr>\n",
              "    <tr>\n",
              "      <th>3</th>\n",
              "      <td>2819243</td>\n",
              "      <td>176158</td>\n",
              "      <td>Cash loans</td>\n",
              "      <td>47041.335</td>\n",
              "      <td>450000.0</td>\n",
              "      <td>470790.0</td>\n",
              "      <td>NaN</td>\n",
              "      <td>450000.0</td>\n",
              "      <td>MONDAY</td>\n",
              "      <td>7</td>\n",
              "      <td>Y</td>\n",
              "      <td>1</td>\n",
              "      <td>NaN</td>\n",
              "      <td>NaN</td>\n",
              "      <td>NaN</td>\n",
              "      <td>XNA</td>\n",
              "      <td>Approved</td>\n",
              "      <td>-512</td>\n",
              "      <td>Cash through the bank</td>\n",
              "      <td>XAP</td>\n",
              "      <td>NaN</td>\n",
              "      <td>Repeater</td>\n",
              "      <td>XNA</td>\n",
              "      <td>Cash</td>\n",
              "      <td>x-sell</td>\n",
              "      <td>Credit and cash offices</td>\n",
              "      <td>-1</td>\n",
              "      <td>XNA</td>\n",
              "      <td>12.0</td>\n",
              "      <td>middle</td>\n",
              "      <td>Cash X-Sell: middle</td>\n",
              "      <td>365243.0</td>\n",
              "      <td>-482.0</td>\n",
              "      <td>-152.0</td>\n",
              "      <td>-182.0</td>\n",
              "      <td>-177.0</td>\n",
              "      <td>1.0</td>\n",
              "    </tr>\n",
              "    <tr>\n",
              "      <th>4</th>\n",
              "      <td>1784265</td>\n",
              "      <td>202054</td>\n",
              "      <td>Cash loans</td>\n",
              "      <td>31924.395</td>\n",
              "      <td>337500.0</td>\n",
              "      <td>404055.0</td>\n",
              "      <td>NaN</td>\n",
              "      <td>337500.0</td>\n",
              "      <td>THURSDAY</td>\n",
              "      <td>9</td>\n",
              "      <td>Y</td>\n",
              "      <td>1</td>\n",
              "      <td>NaN</td>\n",
              "      <td>NaN</td>\n",
              "      <td>NaN</td>\n",
              "      <td>Repairs</td>\n",
              "      <td>Refused</td>\n",
              "      <td>-781</td>\n",
              "      <td>Cash through the bank</td>\n",
              "      <td>HC</td>\n",
              "      <td>NaN</td>\n",
              "      <td>Repeater</td>\n",
              "      <td>XNA</td>\n",
              "      <td>Cash</td>\n",
              "      <td>walk-in</td>\n",
              "      <td>Credit and cash offices</td>\n",
              "      <td>-1</td>\n",
              "      <td>XNA</td>\n",
              "      <td>24.0</td>\n",
              "      <td>high</td>\n",
              "      <td>Cash Street: high</td>\n",
              "      <td>NaN</td>\n",
              "      <td>NaN</td>\n",
              "      <td>NaN</td>\n",
              "      <td>NaN</td>\n",
              "      <td>NaN</td>\n",
              "      <td>NaN</td>\n",
              "    </tr>\n",
              "  </tbody>\n",
              "</table>\n",
              "</div>"
            ],
            "text/plain": [
              "   SK_ID_PREV  SK_ID_CURR  ... DAYS_TERMINATION  NFLAG_INSURED_ON_APPROVAL\n",
              "0     2030495      271877  ...            -37.0                        0.0\n",
              "1     2802425      108129  ...         365243.0                        1.0\n",
              "2     2523466      122040  ...         365243.0                        1.0\n",
              "3     2819243      176158  ...           -177.0                        1.0\n",
              "4     1784265      202054  ...              NaN                        NaN\n",
              "\n",
              "[5 rows x 37 columns]"
            ]
          },
          "metadata": {
            "tags": []
          },
          "execution_count": 22
        }
      ]
    },
    {
      "cell_type": "markdown",
      "metadata": {
        "id": "z4hJa0ZxB82I",
        "colab_type": "text"
      },
      "source": [
        "Featuring using One-Hot-Encoding and applying groupby function to count and finding average"
      ]
    },
    {
      "cell_type": "code",
      "metadata": {
        "id": "TeH5C6xgsIQU",
        "colab_type": "code",
        "colab": {
          "base_uri": "https://localhost:8080/",
          "height": 34
        },
        "outputId": "9c5d4c93-0dd2-458d-ac8e-e2bb46fa1b6c"
      },
      "source": [
        "prev_appl = onehot(prev_appl)"
      ],
      "execution_count": 23,
      "outputs": [
        {
          "output_type": "stream",
          "text": [
            "(1670214, 164)\n"
          ],
          "name": "stdout"
        }
      ]
    },
    {
      "cell_type": "code",
      "metadata": {
        "id": "90xhOut6dWZx",
        "colab_type": "code",
        "colab": {}
      },
      "source": [
        "prev_appl_avg = prev_appl.groupby('SK_ID_CURR').mean()\n",
        "prev_appl_count = prev_appl[['SK_ID_CURR', 'SK_ID_PREV']].groupby('SK_ID_CURR').count()\n",
        "prev_appl_avg['nb_app'] = prev_appl_count['SK_ID_PREV']\n",
        "del prev_appl_avg['SK_ID_PREV']"
      ],
      "execution_count": 24,
      "outputs": []
    },
    {
      "cell_type": "markdown",
      "metadata": {
        "id": "8Of4UKYAEE_U",
        "colab_type": "text"
      },
      "source": [
        "#Working with POS_CASH_Balance"
      ]
    },
    {
      "cell_type": "code",
      "metadata": {
        "id": "1F32XYMKxYR7",
        "colab_type": "code",
        "colab": {
          "base_uri": "https://localhost:8080/",
          "height": 195
        },
        "outputId": "03b79b4c-d247-4d66-97d9-4cc56c804e19"
      },
      "source": [
        "pos.head()"
      ],
      "execution_count": null,
      "outputs": [
        {
          "output_type": "execute_result",
          "data": {
            "text/html": [
              "<div>\n",
              "<style scoped>\n",
              "    .dataframe tbody tr th:only-of-type {\n",
              "        vertical-align: middle;\n",
              "    }\n",
              "\n",
              "    .dataframe tbody tr th {\n",
              "        vertical-align: top;\n",
              "    }\n",
              "\n",
              "    .dataframe thead th {\n",
              "        text-align: right;\n",
              "    }\n",
              "</style>\n",
              "<table border=\"1\" class=\"dataframe\">\n",
              "  <thead>\n",
              "    <tr style=\"text-align: right;\">\n",
              "      <th></th>\n",
              "      <th>SK_ID_PREV</th>\n",
              "      <th>SK_ID_CURR</th>\n",
              "      <th>MONTHS_BALANCE</th>\n",
              "      <th>CNT_INSTALMENT</th>\n",
              "      <th>CNT_INSTALMENT_FUTURE</th>\n",
              "      <th>NAME_CONTRACT_STATUS</th>\n",
              "      <th>SK_DPD</th>\n",
              "      <th>SK_DPD_DEF</th>\n",
              "    </tr>\n",
              "  </thead>\n",
              "  <tbody>\n",
              "    <tr>\n",
              "      <th>0</th>\n",
              "      <td>1803195</td>\n",
              "      <td>182943</td>\n",
              "      <td>-31</td>\n",
              "      <td>48.0</td>\n",
              "      <td>45.0</td>\n",
              "      <td>Active</td>\n",
              "      <td>0</td>\n",
              "      <td>0</td>\n",
              "    </tr>\n",
              "    <tr>\n",
              "      <th>1</th>\n",
              "      <td>1715348</td>\n",
              "      <td>367990</td>\n",
              "      <td>-33</td>\n",
              "      <td>36.0</td>\n",
              "      <td>35.0</td>\n",
              "      <td>Active</td>\n",
              "      <td>0</td>\n",
              "      <td>0</td>\n",
              "    </tr>\n",
              "    <tr>\n",
              "      <th>2</th>\n",
              "      <td>1784872</td>\n",
              "      <td>397406</td>\n",
              "      <td>-32</td>\n",
              "      <td>12.0</td>\n",
              "      <td>9.0</td>\n",
              "      <td>Active</td>\n",
              "      <td>0</td>\n",
              "      <td>0</td>\n",
              "    </tr>\n",
              "    <tr>\n",
              "      <th>3</th>\n",
              "      <td>1903291</td>\n",
              "      <td>269225</td>\n",
              "      <td>-35</td>\n",
              "      <td>48.0</td>\n",
              "      <td>42.0</td>\n",
              "      <td>Active</td>\n",
              "      <td>0</td>\n",
              "      <td>0</td>\n",
              "    </tr>\n",
              "    <tr>\n",
              "      <th>4</th>\n",
              "      <td>2341044</td>\n",
              "      <td>334279</td>\n",
              "      <td>-35</td>\n",
              "      <td>36.0</td>\n",
              "      <td>35.0</td>\n",
              "      <td>Active</td>\n",
              "      <td>0</td>\n",
              "      <td>0</td>\n",
              "    </tr>\n",
              "  </tbody>\n",
              "</table>\n",
              "</div>"
            ],
            "text/plain": [
              "   SK_ID_PREV  SK_ID_CURR  ...  SK_DPD  SK_DPD_DEF\n",
              "0     1803195      182943  ...       0           0\n",
              "1     1715348      367990  ...       0           0\n",
              "2     1784872      397406  ...       0           0\n",
              "3     1903291      269225  ...       0           0\n",
              "4     2341044      334279  ...       0           0\n",
              "\n",
              "[5 rows x 8 columns]"
            ]
          },
          "metadata": {
            "tags": []
          },
          "execution_count": 29
        }
      ]
    },
    {
      "cell_type": "code",
      "metadata": {
        "id": "w_yDku4L3xy4",
        "colab_type": "code",
        "colab": {
          "base_uri": "https://localhost:8080/",
          "height": 185
        },
        "outputId": "153a8b62-b8a0-4c7c-b6eb-6b8657f8dda5"
      },
      "source": [
        "pos.NAME_CONTRACT_STATUS.value_counts()"
      ],
      "execution_count": 37,
      "outputs": [
        {
          "output_type": "execute_result",
          "data": {
            "text/plain": [
              "Active                   9151119\n",
              "Completed                 744883\n",
              "Signed                     87260\n",
              "Demand                      7065\n",
              "Returned to the store       5461\n",
              "Approved                    4917\n",
              "Amortized debt               636\n",
              "Canceled                      15\n",
              "XNA                            2\n",
              "Name: NAME_CONTRACT_STATUS, dtype: int64"
            ]
          },
          "metadata": {
            "tags": []
          },
          "execution_count": 37
        }
      ]
    },
    {
      "cell_type": "code",
      "metadata": {
        "id": "Ag_nyAPU37x6",
        "colab_type": "code",
        "colab": {}
      },
      "source": [
        "le = LabelEncoder()\n",
        "pos['NAME_CONTRACT_STATUS'] = le.fit_transform(pos['NAME_CONTRACT_STATUS'].astype(str))\n",
        "pos['UNIQUE_STATUS_COUNT'] = pos[['SK_ID_CURR', 'NAME_CONTRACT_STATUS']].groupby('SK_ID_CURR').nunique()['NAME_CONTRACT_STATUS']\n",
        "pos['UNIQUE_STATUS_MAX'] = pos[['SK_ID_CURR', 'NAME_CONTRACT_STATUS']].groupby('SK_ID_CURR').max()['NAME_CONTRACT_STATUS']\n",
        "pos.drop(['SK_ID_PREV', 'NAME_CONTRACT_STATUS'], axis=1, inplace=True)"
      ],
      "execution_count": 25,
      "outputs": []
    },
    {
      "cell_type": "markdown",
      "metadata": {
        "id": "8PpzsK5ZzKyI",
        "colab_type": "text"
      },
      "source": [
        "#Working with credit_card_balance"
      ]
    },
    {
      "cell_type": "code",
      "metadata": {
        "id": "dEqbYdA64RgV",
        "colab_type": "code",
        "colab": {
          "base_uri": "https://localhost:8080/",
          "height": 215
        },
        "outputId": "be69fb97-8ac5-4196-cb31-8b821bdd122a"
      },
      "source": [
        "ccb.head()"
      ],
      "execution_count": null,
      "outputs": [
        {
          "output_type": "execute_result",
          "data": {
            "text/html": [
              "<div>\n",
              "<style scoped>\n",
              "    .dataframe tbody tr th:only-of-type {\n",
              "        vertical-align: middle;\n",
              "    }\n",
              "\n",
              "    .dataframe tbody tr th {\n",
              "        vertical-align: top;\n",
              "    }\n",
              "\n",
              "    .dataframe thead th {\n",
              "        text-align: right;\n",
              "    }\n",
              "</style>\n",
              "<table border=\"1\" class=\"dataframe\">\n",
              "  <thead>\n",
              "    <tr style=\"text-align: right;\">\n",
              "      <th></th>\n",
              "      <th>SK_ID_PREV</th>\n",
              "      <th>SK_ID_CURR</th>\n",
              "      <th>MONTHS_BALANCE</th>\n",
              "      <th>AMT_BALANCE</th>\n",
              "      <th>AMT_CREDIT_LIMIT_ACTUAL</th>\n",
              "      <th>AMT_DRAWINGS_ATM_CURRENT</th>\n",
              "      <th>AMT_DRAWINGS_CURRENT</th>\n",
              "      <th>AMT_DRAWINGS_OTHER_CURRENT</th>\n",
              "      <th>AMT_DRAWINGS_POS_CURRENT</th>\n",
              "      <th>AMT_INST_MIN_REGULARITY</th>\n",
              "      <th>AMT_PAYMENT_CURRENT</th>\n",
              "      <th>AMT_PAYMENT_TOTAL_CURRENT</th>\n",
              "      <th>AMT_RECEIVABLE_PRINCIPAL</th>\n",
              "      <th>AMT_RECIVABLE</th>\n",
              "      <th>AMT_TOTAL_RECEIVABLE</th>\n",
              "      <th>CNT_DRAWINGS_ATM_CURRENT</th>\n",
              "      <th>CNT_DRAWINGS_CURRENT</th>\n",
              "      <th>CNT_DRAWINGS_OTHER_CURRENT</th>\n",
              "      <th>CNT_DRAWINGS_POS_CURRENT</th>\n",
              "      <th>CNT_INSTALMENT_MATURE_CUM</th>\n",
              "      <th>NAME_CONTRACT_STATUS</th>\n",
              "      <th>SK_DPD</th>\n",
              "      <th>SK_DPD_DEF</th>\n",
              "    </tr>\n",
              "  </thead>\n",
              "  <tbody>\n",
              "    <tr>\n",
              "      <th>0</th>\n",
              "      <td>2562384</td>\n",
              "      <td>378907</td>\n",
              "      <td>-6</td>\n",
              "      <td>56.970</td>\n",
              "      <td>135000</td>\n",
              "      <td>0.0</td>\n",
              "      <td>877.5</td>\n",
              "      <td>0.0</td>\n",
              "      <td>877.5</td>\n",
              "      <td>1700.325</td>\n",
              "      <td>1800.0</td>\n",
              "      <td>1800.0</td>\n",
              "      <td>0.000</td>\n",
              "      <td>0.000</td>\n",
              "      <td>0.000</td>\n",
              "      <td>0.0</td>\n",
              "      <td>1</td>\n",
              "      <td>0.0</td>\n",
              "      <td>1.0</td>\n",
              "      <td>35.0</td>\n",
              "      <td>Active</td>\n",
              "      <td>0</td>\n",
              "      <td>0</td>\n",
              "    </tr>\n",
              "    <tr>\n",
              "      <th>1</th>\n",
              "      <td>2582071</td>\n",
              "      <td>363914</td>\n",
              "      <td>-1</td>\n",
              "      <td>63975.555</td>\n",
              "      <td>45000</td>\n",
              "      <td>2250.0</td>\n",
              "      <td>2250.0</td>\n",
              "      <td>0.0</td>\n",
              "      <td>0.0</td>\n",
              "      <td>2250.000</td>\n",
              "      <td>2250.0</td>\n",
              "      <td>2250.0</td>\n",
              "      <td>60175.080</td>\n",
              "      <td>64875.555</td>\n",
              "      <td>64875.555</td>\n",
              "      <td>1.0</td>\n",
              "      <td>1</td>\n",
              "      <td>0.0</td>\n",
              "      <td>0.0</td>\n",
              "      <td>69.0</td>\n",
              "      <td>Active</td>\n",
              "      <td>0</td>\n",
              "      <td>0</td>\n",
              "    </tr>\n",
              "    <tr>\n",
              "      <th>2</th>\n",
              "      <td>1740877</td>\n",
              "      <td>371185</td>\n",
              "      <td>-7</td>\n",
              "      <td>31815.225</td>\n",
              "      <td>450000</td>\n",
              "      <td>0.0</td>\n",
              "      <td>0.0</td>\n",
              "      <td>0.0</td>\n",
              "      <td>0.0</td>\n",
              "      <td>2250.000</td>\n",
              "      <td>2250.0</td>\n",
              "      <td>2250.0</td>\n",
              "      <td>26926.425</td>\n",
              "      <td>31460.085</td>\n",
              "      <td>31460.085</td>\n",
              "      <td>0.0</td>\n",
              "      <td>0</td>\n",
              "      <td>0.0</td>\n",
              "      <td>0.0</td>\n",
              "      <td>30.0</td>\n",
              "      <td>Active</td>\n",
              "      <td>0</td>\n",
              "      <td>0</td>\n",
              "    </tr>\n",
              "    <tr>\n",
              "      <th>3</th>\n",
              "      <td>1389973</td>\n",
              "      <td>337855</td>\n",
              "      <td>-4</td>\n",
              "      <td>236572.110</td>\n",
              "      <td>225000</td>\n",
              "      <td>2250.0</td>\n",
              "      <td>2250.0</td>\n",
              "      <td>0.0</td>\n",
              "      <td>0.0</td>\n",
              "      <td>11795.760</td>\n",
              "      <td>11925.0</td>\n",
              "      <td>11925.0</td>\n",
              "      <td>224949.285</td>\n",
              "      <td>233048.970</td>\n",
              "      <td>233048.970</td>\n",
              "      <td>1.0</td>\n",
              "      <td>1</td>\n",
              "      <td>0.0</td>\n",
              "      <td>0.0</td>\n",
              "      <td>10.0</td>\n",
              "      <td>Active</td>\n",
              "      <td>0</td>\n",
              "      <td>0</td>\n",
              "    </tr>\n",
              "    <tr>\n",
              "      <th>4</th>\n",
              "      <td>1891521</td>\n",
              "      <td>126868</td>\n",
              "      <td>-1</td>\n",
              "      <td>453919.455</td>\n",
              "      <td>450000</td>\n",
              "      <td>0.0</td>\n",
              "      <td>11547.0</td>\n",
              "      <td>0.0</td>\n",
              "      <td>11547.0</td>\n",
              "      <td>22924.890</td>\n",
              "      <td>27000.0</td>\n",
              "      <td>27000.0</td>\n",
              "      <td>443044.395</td>\n",
              "      <td>453919.455</td>\n",
              "      <td>453919.455</td>\n",
              "      <td>0.0</td>\n",
              "      <td>1</td>\n",
              "      <td>0.0</td>\n",
              "      <td>1.0</td>\n",
              "      <td>101.0</td>\n",
              "      <td>Active</td>\n",
              "      <td>0</td>\n",
              "      <td>0</td>\n",
              "    </tr>\n",
              "  </tbody>\n",
              "</table>\n",
              "</div>"
            ],
            "text/plain": [
              "   SK_ID_PREV  SK_ID_CURR  ...  SK_DPD  SK_DPD_DEF\n",
              "0     2562384      378907  ...       0           0\n",
              "1     2582071      363914  ...       0           0\n",
              "2     1740877      371185  ...       0           0\n",
              "3     1389973      337855  ...       0           0\n",
              "4     1891521      126868  ...       0           0\n",
              "\n",
              "[5 rows x 23 columns]"
            ]
          },
          "metadata": {
            "tags": []
          },
          "execution_count": 32
        }
      ]
    },
    {
      "cell_type": "code",
      "metadata": {
        "id": "khVhb-983A-i",
        "colab_type": "code",
        "colab": {}
      },
      "source": [
        "ccb['NAME_CONTRACT_STATUS'] = le.fit_transform(ccb['NAME_CONTRACT_STATUS'].astype(str))\n",
        "ccb['UNIQUE_STATUS_COUNT'] = ccb[['SK_ID_CURR', 'NAME_CONTRACT_STATUS']].groupby(\"SK_ID_CURR\").nunique()[\"NAME_CONTRACT_STATUS\"]\n",
        "ccb['UNIQUE_STATUS2_MAX'] = ccb[['SK_ID_CURR', 'NAME_CONTRACT_STATUS']].groupby('SK_ID_CURR').max()\n",
        "ccb.drop(['SK_ID_PREV', 'NAME_CONTRACT_STATUS'], axis=1, inplace=True)"
      ],
      "execution_count": 26,
      "outputs": []
    },
    {
      "cell_type": "markdown",
      "metadata": {
        "id": "ohY_qP8mA8X8",
        "colab_type": "text"
      },
      "source": [
        "#Working with installments_payments"
      ]
    },
    {
      "cell_type": "code",
      "metadata": {
        "id": "ja8iEbxT6HfP",
        "colab_type": "code",
        "colab": {
          "base_uri": "https://localhost:8080/",
          "height": 195
        },
        "outputId": "7d2933d6-5391-4388-e495-ff9a05995744"
      },
      "source": [
        "inp.head()"
      ],
      "execution_count": null,
      "outputs": [
        {
          "output_type": "execute_result",
          "data": {
            "text/html": [
              "<div>\n",
              "<style scoped>\n",
              "    .dataframe tbody tr th:only-of-type {\n",
              "        vertical-align: middle;\n",
              "    }\n",
              "\n",
              "    .dataframe tbody tr th {\n",
              "        vertical-align: top;\n",
              "    }\n",
              "\n",
              "    .dataframe thead th {\n",
              "        text-align: right;\n",
              "    }\n",
              "</style>\n",
              "<table border=\"1\" class=\"dataframe\">\n",
              "  <thead>\n",
              "    <tr style=\"text-align: right;\">\n",
              "      <th></th>\n",
              "      <th>SK_ID_PREV</th>\n",
              "      <th>SK_ID_CURR</th>\n",
              "      <th>NUM_INSTALMENT_VERSION</th>\n",
              "      <th>NUM_INSTALMENT_NUMBER</th>\n",
              "      <th>DAYS_INSTALMENT</th>\n",
              "      <th>DAYS_ENTRY_PAYMENT</th>\n",
              "      <th>AMT_INSTALMENT</th>\n",
              "      <th>AMT_PAYMENT</th>\n",
              "    </tr>\n",
              "  </thead>\n",
              "  <tbody>\n",
              "    <tr>\n",
              "      <th>0</th>\n",
              "      <td>1054186</td>\n",
              "      <td>161674</td>\n",
              "      <td>1.0</td>\n",
              "      <td>6</td>\n",
              "      <td>-1180.0</td>\n",
              "      <td>-1187.0</td>\n",
              "      <td>6948.360</td>\n",
              "      <td>6948.360</td>\n",
              "    </tr>\n",
              "    <tr>\n",
              "      <th>1</th>\n",
              "      <td>1330831</td>\n",
              "      <td>151639</td>\n",
              "      <td>0.0</td>\n",
              "      <td>34</td>\n",
              "      <td>-2156.0</td>\n",
              "      <td>-2156.0</td>\n",
              "      <td>1716.525</td>\n",
              "      <td>1716.525</td>\n",
              "    </tr>\n",
              "    <tr>\n",
              "      <th>2</th>\n",
              "      <td>2085231</td>\n",
              "      <td>193053</td>\n",
              "      <td>2.0</td>\n",
              "      <td>1</td>\n",
              "      <td>-63.0</td>\n",
              "      <td>-63.0</td>\n",
              "      <td>25425.000</td>\n",
              "      <td>25425.000</td>\n",
              "    </tr>\n",
              "    <tr>\n",
              "      <th>3</th>\n",
              "      <td>2452527</td>\n",
              "      <td>199697</td>\n",
              "      <td>1.0</td>\n",
              "      <td>3</td>\n",
              "      <td>-2418.0</td>\n",
              "      <td>-2426.0</td>\n",
              "      <td>24350.130</td>\n",
              "      <td>24350.130</td>\n",
              "    </tr>\n",
              "    <tr>\n",
              "      <th>4</th>\n",
              "      <td>2714724</td>\n",
              "      <td>167756</td>\n",
              "      <td>1.0</td>\n",
              "      <td>2</td>\n",
              "      <td>-1383.0</td>\n",
              "      <td>-1366.0</td>\n",
              "      <td>2165.040</td>\n",
              "      <td>2160.585</td>\n",
              "    </tr>\n",
              "  </tbody>\n",
              "</table>\n",
              "</div>"
            ],
            "text/plain": [
              "   SK_ID_PREV  SK_ID_CURR  ...  AMT_INSTALMENT  AMT_PAYMENT\n",
              "0     1054186      161674  ...        6948.360     6948.360\n",
              "1     1330831      151639  ...        1716.525     1716.525\n",
              "2     2085231      193053  ...       25425.000    25425.000\n",
              "3     2452527      199697  ...       24350.130    24350.130\n",
              "4     2714724      167756  ...        2165.040     2160.585\n",
              "\n",
              "[5 rows x 8 columns]"
            ]
          },
          "metadata": {
            "tags": []
          },
          "execution_count": 35
        }
      ]
    },
    {
      "cell_type": "code",
      "metadata": {
        "id": "xlPoQV7P6Rwy",
        "colab_type": "code",
        "colab": {}
      },
      "source": [
        "inp_avg = inp.groupby('SK_ID_CURR').mean()\n",
        "inp_max = inp.groupby('SK_ID_CURR').max()\n",
        "inp_min = inp.groupby('SK_ID_CURR').min()\n",
        "del inp_avg['SK_ID_PREV']"
      ],
      "execution_count": 27,
      "outputs": []
    },
    {
      "cell_type": "code",
      "metadata": {
        "id": "EsEgUc_V6f9h",
        "colab_type": "code",
        "colab": {}
      },
      "source": [
        "app_train = app_train.merge(right=prev_appl_avg.reset_index(), how='left', on='SK_ID_CURR')\n",
        "app_test = app_test.merge(right=prev_appl_avg.reset_index(), how='left', on='SK_ID_CURR')"
      ],
      "execution_count": 28,
      "outputs": []
    },
    {
      "cell_type": "code",
      "metadata": {
        "id": "ZrgY2QqZ7RCG",
        "colab_type": "code",
        "colab": {}
      },
      "source": [
        "app_train = app_train.merge(right = bureau_avg.reset_index(), how=\"left\", on=\"SK_ID_CURR\")\n",
        "app_test = app_test.merge(right = bureau_avg.reset_index(), how = \"left\", on=\"SK_ID_CURR\")"
      ],
      "execution_count": 29,
      "outputs": []
    },
    {
      "cell_type": "code",
      "metadata": {
        "id": "OAf3NVV_8AUR",
        "colab_type": "code",
        "colab": {}
      },
      "source": [
        "app_train = app_train.merge(pos.groupby('SK_ID_CURR').mean().reset_index(), how='left', on='SK_ID_CURR')\n",
        "app_test = app_test.merge(pos.groupby('SK_ID_CURR').mean().reset_index(), how='left', on='SK_ID_CURR')"
      ],
      "execution_count": 30,
      "outputs": []
    },
    {
      "cell_type": "code",
      "metadata": {
        "id": "sfsic1OD8OwT",
        "colab_type": "code",
        "colab": {}
      },
      "source": [
        "app_train = app_train.merge(ccb.groupby('SK_ID_CURR').mean().reset_index(), how='left', on='SK_ID_CURR')\n",
        "app_test = app_test.merge(ccb.groupby('SK_ID_CURR').mean().reset_index(), how='left', on='SK_ID_CURR')\n"
      ],
      "execution_count": 31,
      "outputs": []
    },
    {
      "cell_type": "code",
      "metadata": {
        "id": "yMhZqPLb8fG-",
        "colab_type": "code",
        "colab": {}
      },
      "source": [
        "app_train = app_train.merge(right=inp_avg.reset_index(), how='left', on='SK_ID_CURR')\n",
        "app_test = app_test.merge(right=inp_avg.reset_index(), how='left', on='SK_ID_CURR')"
      ],
      "execution_count": 32,
      "outputs": []
    },
    {
      "cell_type": "code",
      "metadata": {
        "id": "XWmHAXdn8zYh",
        "colab_type": "code",
        "colab": {}
      },
      "source": [
        "app_train = app_train.merge(right=inp_max.reset_index(), how='left', on='SK_ID_CURR')\n",
        "app_test = app_test.merge(right=inp_max.reset_index(), how='left', on='SK_ID_CURR')\n"
      ],
      "execution_count": 33,
      "outputs": []
    },
    {
      "cell_type": "code",
      "metadata": {
        "id": "5QVEVfXB892m",
        "colab_type": "code",
        "colab": {}
      },
      "source": [
        "app_train = app_train.merge(right=inp_min.reset_index(), how='left', on='SK_ID_CURR')\n",
        "app_test = app_test.merge(right=inp_min.reset_index(), how='left', on='SK_ID_CURR')"
      ],
      "execution_count": 34,
      "outputs": []
    },
    {
      "cell_type": "code",
      "metadata": {
        "id": "5wbrOeMs0dq-",
        "colab_type": "code",
        "colab": {}
      },
      "source": [
        "del prev_appl_avg, bureau_avg, pos, ccb, inp_avg, inp_max, inp_min"
      ],
      "execution_count": 35,
      "outputs": []
    },
    {
      "cell_type": "code",
      "metadata": {
        "id": "mjK_VCy29Kh3",
        "colab_type": "code",
        "colab": {}
      },
      "source": [
        "del app_train[\"TARGET\"]"
      ],
      "execution_count": 36,
      "outputs": []
    },
    {
      "cell_type": "code",
      "metadata": {
        "id": "kugsWUAI99B0",
        "colab_type": "code",
        "colab": {
          "base_uri": "https://localhost:8080/",
          "height": 34
        },
        "outputId": "c077b44b-feff-4a03-a761-fa5a79a09a28"
      },
      "source": [
        "app_train.shape"
      ],
      "execution_count": 37,
      "outputs": [
        {
          "output_type": "execute_result",
          "data": {
            "text/plain": [
              "(307511, 505)"
            ]
          },
          "metadata": {
            "tags": []
          },
          "execution_count": 37
        }
      ]
    },
    {
      "cell_type": "code",
      "metadata": {
        "id": "VoQWCnj99T8J",
        "colab_type": "code",
        "colab": {
          "base_uri": "https://localhost:8080/",
          "height": 34
        },
        "outputId": "3a332599-5ee8-4c5f-d9f4-2d635fae0676"
      },
      "source": [
        "app_test.shape"
      ],
      "execution_count": 38,
      "outputs": [
        {
          "output_type": "execute_result",
          "data": {
            "text/plain": [
              "(48744, 505)"
            ]
          },
          "metadata": {
            "tags": []
          },
          "execution_count": 38
        }
      ]
    },
    {
      "cell_type": "code",
      "metadata": {
        "id": "YaC9_8nV9Ws2",
        "colab_type": "code",
        "colab": {
          "base_uri": "https://localhost:8080/",
          "height": 34
        },
        "outputId": "952eafce-026c-4c60-9318-4013c8d12493"
      },
      "source": [
        "app_train_target.shape"
      ],
      "execution_count": 39,
      "outputs": [
        {
          "output_type": "execute_result",
          "data": {
            "text/plain": [
              "(307511,)"
            ]
          },
          "metadata": {
            "tags": []
          },
          "execution_count": 39
        }
      ]
    },
    {
      "cell_type": "markdown",
      "metadata": {
        "id": "XbeE9LjvIs9h",
        "colab_type": "text"
      },
      "source": [
        "LightLGBM"
      ]
    },
    {
      "cell_type": "code",
      "metadata": {
        "id": "sWTq2vg97crk",
        "colab_type": "code",
        "colab": {}
      },
      "source": [
        "from lightgbm import LGBMClassifier\n",
        "#lgb = LGBMClassifier()\n",
        "lgb.fit(app_train, app_train_target)\n",
        "predictions = lgb.predict_proba(app_test)[:,1]\n",
        "output = app_test[['SK_ID_CURR']].astype(int)\n",
        "output['TARGET'] = predictions"
      ],
      "execution_count": null,
      "outputs": []
    },
    {
      "cell_type": "code",
      "metadata": {
        "id": "WdjyZsqr_aaB",
        "colab_type": "code",
        "colab": {}
      },
      "source": [
        "output.to_csv(\"/content/drive/My Drive/FDS/lightgbm.csv\", index=False)"
      ],
      "execution_count": null,
      "outputs": []
    },
    {
      "cell_type": "code",
      "metadata": {
        "id": "w7I651TRcNgB",
        "colab_type": "code",
        "colab": {}
      },
      "source": [
        "a = []\n",
        "while(1):\n",
        "    a.append(1)"
      ],
      "execution_count": null,
      "outputs": []
    },
    {
      "cell_type": "code",
      "metadata": {
        "id": "RGhNcVRkge-i",
        "colab_type": "code",
        "colab": {
          "base_uri": "https://localhost:8080/",
          "height": 298
        },
        "outputId": "5fdac563-5178-40eb-ee8f-02c4932f68ed"
      },
      "source": [
        "p=lgb.predict_proba(app_train)[:,1]\n",
        "print(roc_auc_score(app_train_target,p))\n",
        "fpr,tpr,thr=roc_curve(app_train_target,p)\n",
        "plt.figure()\n",
        "plt.plot(fpr,tpr)"
      ],
      "execution_count": null,
      "outputs": [
        {
          "output_type": "stream",
          "text": [
            "0.821662162150897\n"
          ],
          "name": "stdout"
        },
        {
          "output_type": "execute_result",
          "data": {
            "text/plain": [
              "[<matplotlib.lines.Line2D at 0x7ff81a77cdd8>]"
            ]
          },
          "metadata": {
            "tags": []
          },
          "execution_count": 50
        },
        {
          "output_type": "display_data",
          "data": {
            "image/png": "[encoded data removed]",
            "text/plain": [
              "<Figure size 432x288 with 1 Axes>"
            ]
          },
          "metadata": {
            "tags": [],
            "needs_background": "light"
          }
        }
      ]
    },
    {
      "cell_type": "markdown",
      "metadata": {
        "id": "GgM_5ZwKIo5X",
        "colab_type": "text"
      },
      "source": [
        "KFold"
      ]
    },
    {
      "cell_type": "code",
      "metadata": {
        "id": "AmYe-khmVDWA",
        "colab_type": "code",
        "colab": {
          "base_uri": "https://localhost:8080/",
          "height": 34
        },
        "outputId": "df809406-0417-4c02-9aeb-f6a3f8e8d279"
      },
      "source": [
        "print('Removing features with more than 85% missing...')\n",
        "test = app_test[app_test.columns[app_train.isnull().mean() < 0.85]]\n",
        "data = app_train[app_train.columns[app_train.isnull().mean() < 0.85]]"
      ],
      "execution_count": 42,
      "outputs": [
        {
          "output_type": "stream",
          "text": [
            "Removing features with more than 80% missing...\n"
          ],
          "name": "stdout"
        }
      ]
    },
    {
      "cell_type": "code",
      "metadata": {
        "id": "RbCiNHuC6IP3",
        "colab_type": "code",
        "colab": {}
      },
      "source": [
        "#Delete customer Id\n",
        "del data['SK_ID_CURR']\n",
        "del test['SK_ID_CURR']"
      ],
      "execution_count": 43,
      "outputs": []
    },
    {
      "cell_type": "code",
      "metadata": {
        "id": "DXUhqXeZFq4y",
        "colab_type": "code",
        "colab": {}
      },
      "source": [
        "data.columns = [\"\".join (c if c.isalnum() else \"_\" for c in str(x)) for x in data.columns]"
      ],
      "execution_count": 44,
      "outputs": []
    },
    {
      "cell_type": "code",
      "metadata": {
        "id": "sAPJLHwKFsq-",
        "colab_type": "code",
        "colab": {}
      },
      "source": [
        "test.columns = [\"\".join (c if c.isalnum() else \"_\" for c in str(x)) for x in test.columns]"
      ],
      "execution_count": 45,
      "outputs": []
    },
    {
      "cell_type": "code",
      "metadata": {
        "id": "M8iSnDsAFuJ4",
        "colab_type": "code",
        "colab": {}
      },
      "source": [
        "from sklearn.model_selection import train_test_split\n",
        "train_x, valid_x, train_y, valid_y = train_test_split(data, app_train_target, test_size=0.2, shuffle=True)"
      ],
      "execution_count": 76,
      "outputs": []
    },
    {
      "cell_type": "code",
      "metadata": {
        "id": "AI4o5WGRF0HW",
        "colab_type": "code",
        "colab": {}
      },
      "source": [
        "train_data=lgb.Dataset(train_x,label=train_y)\n",
        "valid_data=lgb.Dataset(valid_x,label=valid_y)"
      ],
      "execution_count": 77,
      "outputs": []
    },
    {
      "cell_type": "code",
      "metadata": {
        "id": "rFCZFtKnKAWm",
        "colab_type": "code",
        "colab": {}
      },
      "source": [
        "params = [          \n",
        "          { 'boosting_type': 'gbdt',\n",
        "            'objective': 'binary',\n",
        "            'metric': {'auc'},\n",
        "            'learning_rate': 0.01,\n",
        "            'max_depth':8,\n",
        "            'num_leaves': 35,              \n",
        "            'feature_fraction':0.125681745820782, \n",
        "            'bagging_freq': 5,\n",
        "            'min_split_gain':0.0970905919552776,\n",
        "            'min_child_weight':9.42012323936088,\n",
        "            'reg_alpha':4.82988348810309,\n",
        "            'reg_lambda':4.23709841316042,\n",
        "            'verbose': 1},\n",
        "          { 'boosting_type': 'gbdt',\n",
        "            'objective': 'binary',\n",
        "            'metric': {'auc'},\n",
        "            'learning_rate': 0.015,\n",
        "            'max_depth':8,\n",
        "            'num_leaves': 35,              \n",
        "            'colsample_bytree':0.9497036,   \n",
        "            'subsample':0.8715623,            \n",
        "            'bagging_freq': 5,\n",
        "            'min_split_gain':0.0222415,\n",
        "            'min_child_weight':39.3259775,\n",
        "            'reg_alpha':0.041545473,\n",
        "            'reg_lambda':0.0735294,  \n",
        "            'verbose': 1,},\n",
        "    \n",
        "          { 'boosting_type': 'gbdt',\n",
        "            'objective': 'binary',\n",
        "            'metric': {'auc'},\n",
        "            'learning_rate': 0.02,\n",
        "            'max_depth':8,\n",
        "            'num_leaves': 34,              \n",
        "            'feature_fraction' : 0.125681745820782,\n",
        "            'bagging_fraction' : 0.967396467593587,\n",
        "            'bagging_freq':5,\n",
        "            'min_split_gain':0.0970905919552776,\n",
        "            'min_child_weight':9.42012323936088,\n",
        "            'reg_alpha':4.82988348810309,\n",
        "            'reg_lambda':4.23709841316042,\n",
        "            'verbose': 1,}\n",
        "         ]"
      ],
      "execution_count": 78,
      "outputs": []
    },
    {
      "cell_type": "code",
      "metadata": {
        "id": "K1sdgAD2KYja",
        "colab_type": "code",
        "colab": {}
      },
      "source": [
        "debug = False\n",
        "GLOBAL = False\n",
        "num_rows = 20000 if debug else None\n",
        "# cache_path = \"./cache/v1/\"\n",
        "seed = 1024\n",
        "# path = \"../input/\""
      ],
      "execution_count": 79,
      "outputs": []
    },
    {
      "cell_type": "code",
      "metadata": {
        "id": "7nPiGPlZKcVM",
        "colab_type": "code",
        "colab": {
          "base_uri": "https://localhost:8080/",
          "height": 1000
        },
        "outputId": "d2e5dd6e-4c40-4a13-974f-e67972126502"
      },
      "source": [
        "folds = StratifiedKFold(n_splits= 5 , shuffle=True, random_state=seed)\n",
        "\n",
        "oof_preds = np.zeros(data.shape[0])\n",
        "sub_preds = np.zeros(test.shape[0])\n",
        "\n",
        "feature_importance_df = pd.DataFrame()\n",
        "\n",
        "feats = [f for f in data.columns if f not in  ['SK_ID_CURR',\"TARGET\"]]\n",
        "\n",
        "for n_fold, (trn_idx, val_idx) in enumerate(folds.split(data, app_train_target)):\n",
        "    X_train, y_train = data[feats].iloc[trn_idx], app_train_target.iloc[trn_idx]\n",
        "    X_test, y_test = data[feats].iloc[val_idx], app_train_target.iloc[val_idx]\n",
        "\n",
        "    lgb_train = lgb.Dataset(X_train, y_train)\n",
        "    del X_train, y_train,\n",
        "    lgb_eval = lgb.Dataset(X_test,y_test,reference=lgb_train)\n",
        "        \n",
        "    clf = lgb.train(params[1],\n",
        "                    lgb_train,\n",
        "                    num_boost_round=20000,\n",
        "                    valid_sets=[lgb_eval],\n",
        "                    early_stopping_rounds=200,\n",
        "                    verbose_eval=100)\n",
        "\n",
        "    oof_preds[val_idx] = clf.predict(X_test, num_iteration=clf.best_iteration)\n",
        "    \n",
        "    sub = pd.Series(clf.predict(test[feats], num_iteration=clf.best_iteration)).rank(pct=True).values\n",
        "    sub_preds +=  sub / (folds.n_splits)\n",
        "        \n",
        "    fold_importance_df = pd.DataFrame()\n",
        "    fold_importance_df[\"feature\"] = clf.feature_name()\n",
        "    fold_importance_df[\"importance\"] = clf.feature_importance()\n",
        "    fold_importance_df[\"fold\"] = n_fold + 1\n",
        "    feature_importance_df = pd.concat([feature_importance_df, fold_importance_df], axis=0)\n",
        "    \n",
        "    print('Fold %2d AUC : %.6f' % (n_fold + 1, roc_auc_score(y_test, oof_preds[val_idx])))\n",
        "    del X_test, y_test\n",
        "    gc.collect()"
      ],
      "execution_count": 80,
      "outputs": [
        {
          "output_type": "stream",
          "text": [
            "Training until validation scores don't improve for 200 rounds.\n",
            "[100]\tvalid_0's auc: 0.754761\n",
            "[200]\tvalid_0's auc: 0.770119\n",
            "[300]\tvalid_0's auc: 0.77711\n",
            "[400]\tvalid_0's auc: 0.781074\n",
            "[500]\tvalid_0's auc: 0.783316\n",
            "[600]\tvalid_0's auc: 0.785023\n",
            "[700]\tvalid_0's auc: 0.786161\n",
            "[800]\tvalid_0's auc: 0.787133\n",
            "[900]\tvalid_0's auc: 0.787687\n",
            "[1000]\tvalid_0's auc: 0.788009\n",
            "[1100]\tvalid_0's auc: 0.788388\n",
            "[1200]\tvalid_0's auc: 0.788599\n",
            "[1300]\tvalid_0's auc: 0.788702\n",
            "[1400]\tvalid_0's auc: 0.788848\n",
            "[1500]\tvalid_0's auc: 0.789005\n",
            "[1600]\tvalid_0's auc: 0.789052\n",
            "[1700]\tvalid_0's auc: 0.789177\n",
            "[1800]\tvalid_0's auc: 0.78914\n",
            "[1900]\tvalid_0's auc: 0.789179\n",
            "[2000]\tvalid_0's auc: 0.7892\n",
            "[2100]\tvalid_0's auc: 0.789237\n",
            "[2200]\tvalid_0's auc: 0.7894\n",
            "[2300]\tvalid_0's auc: 0.789403\n",
            "[2400]\tvalid_0's auc: 0.789367\n",
            "[2500]\tvalid_0's auc: 0.789455\n",
            "[2600]\tvalid_0's auc: 0.789278\n",
            "Early stopping, best iteration is:\n",
            "[2477]\tvalid_0's auc: 0.789483\n",
            "Fold  1 AUC : 0.789483\n",
            "Training until validation scores don't improve for 200 rounds.\n",
            "[100]\tvalid_0's auc: 0.743789\n",
            "[200]\tvalid_0's auc: 0.760681\n",
            "[300]\tvalid_0's auc: 0.768794\n",
            "[400]\tvalid_0's auc: 0.773266\n",
            "[500]\tvalid_0's auc: 0.77626\n",
            "[600]\tvalid_0's auc: 0.778218\n",
            "[700]\tvalid_0's auc: 0.77965\n",
            "[800]\tvalid_0's auc: 0.780676\n",
            "[900]\tvalid_0's auc: 0.781593\n",
            "[1000]\tvalid_0's auc: 0.782277\n",
            "[1100]\tvalid_0's auc: 0.782719\n",
            "[1200]\tvalid_0's auc: 0.783224\n",
            "[1300]\tvalid_0's auc: 0.783561\n",
            "[1400]\tvalid_0's auc: 0.783729\n",
            "[1500]\tvalid_0's auc: 0.783873\n",
            "[1600]\tvalid_0's auc: 0.784093\n",
            "[1700]\tvalid_0's auc: 0.784341\n",
            "[1800]\tvalid_0's auc: 0.784387\n",
            "[1900]\tvalid_0's auc: 0.78455\n",
            "[2000]\tvalid_0's auc: 0.784559\n",
            "[2100]\tvalid_0's auc: 0.784645\n",
            "[2200]\tvalid_0's auc: 0.784641\n",
            "[2300]\tvalid_0's auc: 0.784496\n",
            "Early stopping, best iteration is:\n",
            "[2190]\tvalid_0's auc: 0.784664\n",
            "Fold  2 AUC : 0.784664\n",
            "Training until validation scores don't improve for 200 rounds.\n",
            "[100]\tvalid_0's auc: 0.749233\n",
            "[200]\tvalid_0's auc: 0.768448\n",
            "[300]\tvalid_0's auc: 0.776904\n",
            "[400]\tvalid_0's auc: 0.781701\n",
            "[500]\tvalid_0's auc: 0.784713\n",
            "[600]\tvalid_0's auc: 0.78676\n",
            "[700]\tvalid_0's auc: 0.788376\n",
            "[800]\tvalid_0's auc: 0.789558\n",
            "[900]\tvalid_0's auc: 0.790444\n",
            "[1000]\tvalid_0's auc: 0.791192\n",
            "[1100]\tvalid_0's auc: 0.791662\n",
            "[1200]\tvalid_0's auc: 0.792285\n",
            "[1300]\tvalid_0's auc: 0.792928\n",
            "[1400]\tvalid_0's auc: 0.793238\n",
            "[1500]\tvalid_0's auc: 0.793535\n",
            "[1600]\tvalid_0's auc: 0.793762\n",
            "[1700]\tvalid_0's auc: 0.793701\n",
            "[1800]\tvalid_0's auc: 0.793738\n",
            "Early stopping, best iteration is:\n",
            "[1625]\tvalid_0's auc: 0.793845\n",
            "Fold  3 AUC : 0.793845\n",
            "Training until validation scores don't improve for 200 rounds.\n",
            "[100]\tvalid_0's auc: 0.750911\n",
            "[200]\tvalid_0's auc: 0.767449\n",
            "[300]\tvalid_0's auc: 0.77424\n",
            "[400]\tvalid_0's auc: 0.77848\n",
            "[500]\tvalid_0's auc: 0.781096\n",
            "[600]\tvalid_0's auc: 0.782669\n",
            "[700]\tvalid_0's auc: 0.783975\n",
            "[800]\tvalid_0's auc: 0.784766\n",
            "[900]\tvalid_0's auc: 0.78561\n",
            "[1000]\tvalid_0's auc: 0.786197\n",
            "[1100]\tvalid_0's auc: 0.786772\n",
            "[1200]\tvalid_0's auc: 0.7872\n",
            "[1300]\tvalid_0's auc: 0.787603\n",
            "[1400]\tvalid_0's auc: 0.787821\n",
            "[1500]\tvalid_0's auc: 0.787948\n",
            "[1600]\tvalid_0's auc: 0.788206\n",
            "[1700]\tvalid_0's auc: 0.788305\n",
            "[1800]\tvalid_0's auc: 0.788305\n",
            "[1900]\tvalid_0's auc: 0.788255\n",
            "Early stopping, best iteration is:\n",
            "[1745]\tvalid_0's auc: 0.788414\n",
            "Fold  4 AUC : 0.788414\n",
            "Training until validation scores don't improve for 200 rounds.\n",
            "[100]\tvalid_0's auc: 0.750893\n",
            "[200]\tvalid_0's auc: 0.765293\n",
            "[300]\tvalid_0's auc: 0.772552\n",
            "[400]\tvalid_0's auc: 0.776211\n",
            "[500]\tvalid_0's auc: 0.778699\n",
            "[600]\tvalid_0's auc: 0.780315\n",
            "[700]\tvalid_0's auc: 0.781593\n",
            "[800]\tvalid_0's auc: 0.782492\n",
            "[900]\tvalid_0's auc: 0.783179\n",
            "[1000]\tvalid_0's auc: 0.783748\n",
            "[1100]\tvalid_0's auc: 0.784243\n",
            "[1200]\tvalid_0's auc: 0.78453\n",
            "[1300]\tvalid_0's auc: 0.784769\n",
            "[1400]\tvalid_0's auc: 0.785283\n",
            "[1500]\tvalid_0's auc: 0.785558\n",
            "[1600]\tvalid_0's auc: 0.78561\n",
            "[1700]\tvalid_0's auc: 0.785779\n",
            "[1800]\tvalid_0's auc: 0.785731\n",
            "[1900]\tvalid_0's auc: 0.785854\n",
            "[2000]\tvalid_0's auc: 0.785848\n",
            "[2100]\tvalid_0's auc: 0.785817\n",
            "[2200]\tvalid_0's auc: 0.785949\n",
            "[2300]\tvalid_0's auc: 0.785939\n",
            "[2400]\tvalid_0's auc: 0.786006\n",
            "[2500]\tvalid_0's auc: 0.785996\n",
            "Early stopping, best iteration is:\n",
            "[2364]\tvalid_0's auc: 0.786073\n",
            "Fold  5 AUC : 0.786073\n"
          ],
          "name": "stdout"
        }
      ]
    },
    {
      "cell_type": "code",
      "metadata": {
        "id": "mMqdTPLTKlZm",
        "colab_type": "code",
        "colab": {
          "base_uri": "https://localhost:8080/",
          "height": 34
        },
        "outputId": "27707306-29a4-4de9-9c94-92304bc2ce86"
      },
      "source": [
        "print('Full AUC score %.6f' % roc_auc_score(app_train_target, oof_preds)) \n",
        "test['TARGET'] = sub_preds"
      ],
      "execution_count": 81,
      "outputs": [
        {
          "output_type": "stream",
          "text": [
            "Full AUC score 0.788423\n"
          ],
          "name": "stdout"
        }
      ]
    },
    {
      "cell_type": "code",
      "metadata": {
        "id": "bcBn1F52baLR",
        "colab_type": "code",
        "colab": {}
      },
      "source": [
        "test[['SK_ID_CURR', 'TARGET']].to_csv('/content/drive/My Drive/FDS/submission_cross.csv', index=False)"
      ],
      "execution_count": 85,
      "outputs": []
    },
    {
      "cell_type": "code",
      "metadata": {
        "id": "e7mUgGXBcI7U",
        "colab_type": "code",
        "colab": {}
      },
      "source": [
        "test['SK_ID_CURR']=app ['SK_ID_CURR'].astype(int)"
      ],
      "execution_count": 84,
      "outputs": []
    },
    {
      "cell_type": "code",
      "metadata": {
        "id": "ONGDtbkEcvsr",
        "colab_type": "code",
        "colab": {}
      },
      "source": [
        "app= pd.read_csv(\"/content/drive/My Drive/FDS/application_test.csv\")\n"
      ],
      "execution_count": 83,
      "outputs": []
    },
    {
      "cell_type": "code",
      "metadata": {
        "id": "JSsyXoClwFq8",
        "colab_type": "code",
        "colab": {}
      },
      "source": [
        ""
      ],
      "execution_count": null,
      "outputs": []
    }
  ]
}