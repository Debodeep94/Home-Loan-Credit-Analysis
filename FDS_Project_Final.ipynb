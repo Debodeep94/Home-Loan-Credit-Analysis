{
  "nbformat": 4,
  "nbformat_minor": 0,
  "metadata": {
    "colab": {
      "name": "Untitled0.ipynb",
      "provenance": [],
      "collapsed_sections": [],
      "toc_visible": true
    },
    "kernelspec": {
      "name": "python3",
      "display_name": "Python 3"
    }
  },
  "cells": [
    {
      "cell_type": "code",
      "metadata": {
        "id": "nY29n_WKCAfd",
        "colab_type": "code",
        "colab": {
          "base_uri": "https://localhost:8080/",
          "height": 34
        },
        "outputId": "21469092-d072-4fb2-fd09-137a7810bca0"
      },
      "source": [
        "from google.colab import drive\n",
        "drive.mount('/content/drive')"
      ],
      "execution_count": 1,
      "outputs": [
        {
          "output_type": "stream",
          "text": [
            "Drive already mounted at /content/drive; to attempt to forcibly remount, call drive.mount(\"/content/drive\", force_remount=True).\n"
          ],
          "name": "stdout"
        }
      ]
    },
    {
      "cell_type": "code",
      "metadata": {
        "id": "x9dvq4Iq-T57",
        "colab_type": "code",
        "colab": {
          "base_uri": "https://localhost:8080/",
          "height": 70
        },
        "outputId": "f27d57f1-eb74-437e-ff38-d19394b2ff29"
      },
      "source": [
        "import gc\n",
        "import pandas as pd\n",
        "import numpy as np\n",
        "import matplotlib.pyplot as plt\n",
        "import seaborn as sns\n",
        "from sklearn.metrics import roc_curve, roc_auc_score, accuracy_score, confusion_matrix, precision_recall_curve, average_precision_score\n",
        "from sklearn.preprocessing import MinMaxScaler, LabelEncoder\n",
        "from sklearn.feature_selection import VarianceThreshold\n",
        "from sklearn.model_selection import StratifiedKFold\n",
        "from lightgbm import LGBMClassifier\n",
        "from sklearn.model_selection import train_test_split\n",
        "import lightgbm as lgb\n",
        "from sklearn.impute import SimpleImputer\n",
        "import warnings\n",
        "warnings.filterwarnings('ignore')"
      ],
      "execution_count": 1,
      "outputs": [
        {
          "output_type": "stream",
          "text": [
            "/usr/local/lib/python3.6/dist-packages/statsmodels/tools/_testing.py:19: FutureWarning: pandas.util.testing is deprecated. Use the functions in the public API at pandas.testing instead.\n",
            "  import pandas.util.testing as tm\n"
          ],
          "name": "stderr"
        }
      ]
    },
    {
      "cell_type": "code",
      "metadata": {
        "id": "1LgcEnfJ-mTt",
        "colab_type": "code",
        "colab": {}
      },
      "source": [
        "app_test = pd.read_csv(\"/content/drive/My Drive/FDS/application_test.csv\")\n",
        "app_train = pd.read_csv(\"/content/drive/My Drive/FDS/application_train.csv\")\n",
        "bureau=pd.read_csv(\"//content/drive/My Drive/FDS/bureau.csv\")\n",
        "samp_sub=pd.read_csv(\"/content/drive/My Drive/FDS/sample_submission.csv\")\n",
        "br_bal=pd.read_csv(\"/content/drive/My Drive/FDS/bureau_balance.csv\")\n",
        "ccb=pd.read_csv(\"/content/drive/My Drive/FDS/credit_card_balance.csv\")\n",
        "prev_appl=pd.read_csv(\"/content/drive/My Drive/FDS/previous_application.csv\")\n",
        "pos=pd.read_csv(\"/content/drive/My Drive/FDS/POS_CASH_balance.csv\")\n",
        "inp=pd.read_csv(\"/content/drive/My Drive/FDS/installments_payments.csv\")"
      ],
      "execution_count": 2,
      "outputs": []
    },
    {
      "cell_type": "markdown",
      "metadata": {
        "id": "dwfaOMONrkP-",
        "colab_type": "text"
      },
      "source": [
        "##Exploratory Data Analysis"
      ]
    },
    {
      "cell_type": "markdown",
      "metadata": {
        "id": "vfIJANQOrxvq",
        "colab_type": "text"
      },
      "source": [
        "###Missing value and the plot for the dataset"
      ]
    },
    {
      "cell_type": "code",
      "metadata": {
        "id": "1bdMZiDve_E6",
        "colab_type": "code",
        "colab": {}
      },
      "source": [
        "# Examine the missing values.\n",
        "# Please note, we will just check the information on the missing values. \n",
        "# We will not remove any column as of now because we don't know which column is going to be important in future.\n",
        "# Function to detect missing values.\n",
        "def missing_info(dataframe):\n",
        "    total=dataframe.isnull().sum()\n",
        "  # standardised score of the missing values:\n",
        "    mean_null=sum(total)/len(dataframe.columns)\n",
        "    var_null=sum(((total-mean_null)**2))/len(dataframe.columns)\n",
        "    metric=((total-mean_null)/var_null)*1000000\n",
        "  # Percentage of missing value\n",
        "    percent = (dataframe.isnull().sum()/dataframe.isnull().count()*100)\n",
        "  # Make a table with the results\n",
        "    result=pd.concat([total,metric, percent],axis=1)\n",
        "    result.columns=[\"count\",\"standardised_score\", \"percentage\"]\n",
        "    result=result[result.iloc[:,1] != 0].sort_values(\n",
        "          'count', ascending=False).round(2)\n",
        "    result= result[result[\"percentage\"] > 0]\n",
        "    f,ax =plt.subplots(figsize=(15,10))\n",
        "    plt.xticks(rotation='90')\n",
        "    fig=sns.barplot(result.index, result[\"percentage\"], color=\"red\",alpha=0.8)\n",
        "    plt.xlabel('Features')\n",
        "    plt.ylabel('Percentage of missing values')\n",
        "    plt.title('Percentage of missing data by feature')\n",
        "    return(result.head())"
      ],
      "execution_count": null,
      "outputs": []
    },
    {
      "cell_type": "code",
      "metadata": {
        "id": "24_t_4xbe_Wy",
        "colab_type": "code",
        "colab": {
          "base_uri": "https://localhost:8080/",
          "height": 967
        },
        "outputId": "26a5fa18-91e4-4972-de79-1957ec9010f5"
      },
      "source": [
        "missing_info(app_train)"
      ],
      "execution_count": null,
      "outputs": [
        {
          "output_type": "execute_result",
          "data": {
            "text/html": [
              "<div>\n",
              "<style scoped>\n",
              "    .dataframe tbody tr th:only-of-type {\n",
              "        vertical-align: middle;\n",
              "    }\n",
              "\n",
              "    .dataframe tbody tr th {\n",
              "        vertical-align: top;\n",
              "    }\n",
              "\n",
              "    .dataframe thead th {\n",
              "        text-align: right;\n",
              "    }\n",
              "</style>\n",
              "<table border=\"1\" class=\"dataframe\">\n",
              "  <thead>\n",
              "    <tr style=\"text-align: right;\">\n",
              "      <th></th>\n",
              "      <th>count</th>\n",
              "      <th>standardised_score</th>\n",
              "      <th>percentage</th>\n",
              "    </tr>\n",
              "  </thead>\n",
              "  <tbody>\n",
              "    <tr>\n",
              "      <th>COMMONAREA_MEDI</th>\n",
              "      <td>214865</td>\n",
              "      <td>18.43</td>\n",
              "      <td>69.87</td>\n",
              "    </tr>\n",
              "    <tr>\n",
              "      <th>COMMONAREA_AVG</th>\n",
              "      <td>214865</td>\n",
              "      <td>18.43</td>\n",
              "      <td>69.87</td>\n",
              "    </tr>\n",
              "    <tr>\n",
              "      <th>COMMONAREA_MODE</th>\n",
              "      <td>214865</td>\n",
              "      <td>18.43</td>\n",
              "      <td>69.87</td>\n",
              "    </tr>\n",
              "    <tr>\n",
              "      <th>NONLIVINGAPARTMENTS_MODE</th>\n",
              "      <td>213514</td>\n",
              "      <td>18.25</td>\n",
              "      <td>69.43</td>\n",
              "    </tr>\n",
              "    <tr>\n",
              "      <th>NONLIVINGAPARTMENTS_AVG</th>\n",
              "      <td>213514</td>\n",
              "      <td>18.25</td>\n",
              "      <td>69.43</td>\n",
              "    </tr>\n",
              "  </tbody>\n",
              "</table>\n",
              "</div>"
            ],
            "text/plain": [
              "                           count  standardised_score  percentage\n",
              "COMMONAREA_MEDI           214865               18.43       69.87\n",
              "COMMONAREA_AVG            214865               18.43       69.87\n",
              "COMMONAREA_MODE           214865               18.43       69.87\n",
              "NONLIVINGAPARTMENTS_MODE  213514               18.25       69.43\n",
              "NONLIVINGAPARTMENTS_AVG   213514               18.25       69.43"
            ]
          },
          "metadata": {
            "tags": []
          },
          "execution_count": 79
        },
        {
          "output_type": "display_data",
          "data": {
            "image/png": "[encoded data removed]",
            "text/plain": [
              "<Figure size 1080x720 with 1 Axes>"
            ]
          },
          "metadata": {
            "tags": [],
            "needs_background": "light"
          }
        }
      ]
    },
    {
      "cell_type": "code",
      "metadata": {
        "id": "7v3n-EZzsgeR",
        "colab_type": "code",
        "colab": {
          "base_uri": "https://localhost:8080/",
          "height": 1000
        },
        "outputId": "28d90860-3b91-43ef-8c7e-932ca3ab5cf6"
      },
      "source": [
        "missing_info(app_test)"
      ],
      "execution_count": null,
      "outputs": [
        {
          "output_type": "execute_result",
          "data": {
            "text/html": [
              "<div>\n",
              "<style scoped>\n",
              "    .dataframe tbody tr th:only-of-type {\n",
              "        vertical-align: middle;\n",
              "    }\n",
              "\n",
              "    .dataframe tbody tr th {\n",
              "        vertical-align: top;\n",
              "    }\n",
              "\n",
              "    .dataframe thead th {\n",
              "        text-align: right;\n",
              "    }\n",
              "</style>\n",
              "<table border=\"1\" class=\"dataframe\">\n",
              "  <thead>\n",
              "    <tr style=\"text-align: right;\">\n",
              "      <th></th>\n",
              "      <th>count</th>\n",
              "      <th>standardised_score</th>\n",
              "      <th>percentage</th>\n",
              "    </tr>\n",
              "  </thead>\n",
              "  <tbody>\n",
              "    <tr>\n",
              "      <th>COMMONAREA_AVG</th>\n",
              "      <td>33495</td>\n",
              "      <td>120.87</td>\n",
              "      <td>68.72</td>\n",
              "    </tr>\n",
              "    <tr>\n",
              "      <th>COMMONAREA_MODE</th>\n",
              "      <td>33495</td>\n",
              "      <td>120.87</td>\n",
              "      <td>68.72</td>\n",
              "    </tr>\n",
              "    <tr>\n",
              "      <th>COMMONAREA_MEDI</th>\n",
              "      <td>33495</td>\n",
              "      <td>120.87</td>\n",
              "      <td>68.72</td>\n",
              "    </tr>\n",
              "    <tr>\n",
              "      <th>NONLIVINGAPARTMENTS_AVG</th>\n",
              "      <td>33347</td>\n",
              "      <td>120.05</td>\n",
              "      <td>68.41</td>\n",
              "    </tr>\n",
              "    <tr>\n",
              "      <th>NONLIVINGAPARTMENTS_MODE</th>\n",
              "      <td>33347</td>\n",
              "      <td>120.05</td>\n",
              "      <td>68.41</td>\n",
              "    </tr>\n",
              "    <tr>\n",
              "      <th>...</th>\n",
              "      <td>...</td>\n",
              "      <td>...</td>\n",
              "      <td>...</td>\n",
              "    </tr>\n",
              "    <tr>\n",
              "      <th>OBS_30_CNT_SOCIAL_CIRCLE</th>\n",
              "      <td>29</td>\n",
              "      <td>-63.93</td>\n",
              "      <td>0.06</td>\n",
              "    </tr>\n",
              "    <tr>\n",
              "      <th>OBS_60_CNT_SOCIAL_CIRCLE</th>\n",
              "      <td>29</td>\n",
              "      <td>-63.93</td>\n",
              "      <td>0.06</td>\n",
              "    </tr>\n",
              "    <tr>\n",
              "      <th>DEF_60_CNT_SOCIAL_CIRCLE</th>\n",
              "      <td>29</td>\n",
              "      <td>-63.93</td>\n",
              "      <td>0.06</td>\n",
              "    </tr>\n",
              "    <tr>\n",
              "      <th>AMT_ANNUITY</th>\n",
              "      <td>24</td>\n",
              "      <td>-63.96</td>\n",
              "      <td>0.05</td>\n",
              "    </tr>\n",
              "    <tr>\n",
              "      <th>EXT_SOURCE_2</th>\n",
              "      <td>8</td>\n",
              "      <td>-64.05</td>\n",
              "      <td>0.02</td>\n",
              "    </tr>\n",
              "  </tbody>\n",
              "</table>\n",
              "<p>64 rows × 3 columns</p>\n",
              "</div>"
            ],
            "text/plain": [
              "                          count  standardised_score  percentage\n",
              "COMMONAREA_AVG            33495              120.87       68.72\n",
              "COMMONAREA_MODE           33495              120.87       68.72\n",
              "COMMONAREA_MEDI           33495              120.87       68.72\n",
              "NONLIVINGAPARTMENTS_AVG   33347              120.05       68.41\n",
              "NONLIVINGAPARTMENTS_MODE  33347              120.05       68.41\n",
              "...                         ...                 ...         ...\n",
              "OBS_30_CNT_SOCIAL_CIRCLE     29              -63.93        0.06\n",
              "OBS_60_CNT_SOCIAL_CIRCLE     29              -63.93        0.06\n",
              "DEF_60_CNT_SOCIAL_CIRCLE     29              -63.93        0.06\n",
              "AMT_ANNUITY                  24              -63.96        0.05\n",
              "EXT_SOURCE_2                  8              -64.05        0.02\n",
              "\n",
              "[64 rows x 3 columns]"
            ]
          },
          "metadata": {
            "tags": []
          },
          "execution_count": 50
        },
        {
          "output_type": "display_data",
          "data": {
            "image/png": "[encoded data removed]",
            "text/plain": [
              "<Figure size 1080x720 with 1 Axes>"
            ]
          },
          "metadata": {
            "tags": [],
            "needs_background": "light"
          }
        }
      ]
    },
    {
      "cell_type": "code",
      "metadata": {
        "id": "kZIXOrHOe3lC",
        "colab_type": "code",
        "colab": {
          "base_uri": "https://localhost:8080/",
          "height": 964
        },
        "outputId": "b32093ee-16de-4c9c-ecac-4e51e248780d"
      },
      "source": [
        "missing_info(bureau)"
      ],
      "execution_count": null,
      "outputs": [
        {
          "output_type": "execute_result",
          "data": {
            "text/html": [
              "<div>\n",
              "<style scoped>\n",
              "    .dataframe tbody tr th:only-of-type {\n",
              "        vertical-align: middle;\n",
              "    }\n",
              "\n",
              "    .dataframe tbody tr th {\n",
              "        vertical-align: top;\n",
              "    }\n",
              "\n",
              "    .dataframe thead th {\n",
              "        text-align: right;\n",
              "    }\n",
              "</style>\n",
              "<table border=\"1\" class=\"dataframe\">\n",
              "  <thead>\n",
              "    <tr style=\"text-align: right;\">\n",
              "      <th></th>\n",
              "      <th>count</th>\n",
              "      <th>standardised_score</th>\n",
              "      <th>percentage</th>\n",
              "    </tr>\n",
              "  </thead>\n",
              "  <tbody>\n",
              "    <tr>\n",
              "      <th>AMT_ANNUITY</th>\n",
              "      <td>1226791</td>\n",
              "      <td>6.30</td>\n",
              "      <td>71.47</td>\n",
              "    </tr>\n",
              "    <tr>\n",
              "      <th>AMT_CREDIT_MAX_OVERDUE</th>\n",
              "      <td>1124488</td>\n",
              "      <td>5.65</td>\n",
              "      <td>65.51</td>\n",
              "    </tr>\n",
              "    <tr>\n",
              "      <th>DAYS_ENDDATE_FACT</th>\n",
              "      <td>633653</td>\n",
              "      <td>2.54</td>\n",
              "      <td>36.92</td>\n",
              "    </tr>\n",
              "    <tr>\n",
              "      <th>AMT_CREDIT_SUM_LIMIT</th>\n",
              "      <td>591780</td>\n",
              "      <td>2.28</td>\n",
              "      <td>34.48</td>\n",
              "    </tr>\n",
              "    <tr>\n",
              "      <th>AMT_CREDIT_SUM_DEBT</th>\n",
              "      <td>257669</td>\n",
              "      <td>0.16</td>\n",
              "      <td>15.01</td>\n",
              "    </tr>\n",
              "    <tr>\n",
              "      <th>DAYS_CREDIT_ENDDATE</th>\n",
              "      <td>105553</td>\n",
              "      <td>-0.80</td>\n",
              "      <td>6.15</td>\n",
              "    </tr>\n",
              "  </tbody>\n",
              "</table>\n",
              "</div>"
            ],
            "text/plain": [
              "                          count  standardised_score  percentage\n",
              "AMT_ANNUITY             1226791                6.30       71.47\n",
              "AMT_CREDIT_MAX_OVERDUE  1124488                5.65       65.51\n",
              "DAYS_ENDDATE_FACT        633653                2.54       36.92\n",
              "AMT_CREDIT_SUM_LIMIT     591780                2.28       34.48\n",
              "AMT_CREDIT_SUM_DEBT      257669                0.16       15.01\n",
              "DAYS_CREDIT_ENDDATE      105553               -0.80        6.15"
            ]
          },
          "metadata": {
            "tags": []
          },
          "execution_count": 51
        },
        {
          "output_type": "display_data",
          "data": {
            "image/png": "[encoded data removed]",
            "text/plain": [
              "<Figure size 1080x720 with 1 Axes>"
            ]
          },
          "metadata": {
            "tags": [],
            "needs_background": "light"
          }
        }
      ]
    },
    {
      "cell_type": "code",
      "metadata": {
        "id": "oWivw1s_fCor",
        "colab_type": "code",
        "colab": {
          "base_uri": "https://localhost:8080/",
          "height": 1000
        },
        "outputId": "cb694507-0997-449b-b292-46f06d08c5d8"
      },
      "source": [
        "missing_info(ccb)"
      ],
      "execution_count": null,
      "outputs": [
        {
          "output_type": "execute_result",
          "data": {
            "text/html": [
              "<div>\n",
              "<style scoped>\n",
              "    .dataframe tbody tr th:only-of-type {\n",
              "        vertical-align: middle;\n",
              "    }\n",
              "\n",
              "    .dataframe tbody tr th {\n",
              "        vertical-align: top;\n",
              "    }\n",
              "\n",
              "    .dataframe thead th {\n",
              "        text-align: right;\n",
              "    }\n",
              "</style>\n",
              "<table border=\"1\" class=\"dataframe\">\n",
              "  <thead>\n",
              "    <tr style=\"text-align: right;\">\n",
              "      <th></th>\n",
              "      <th>count</th>\n",
              "      <th>standardised_score</th>\n",
              "      <th>percentage</th>\n",
              "    </tr>\n",
              "  </thead>\n",
              "  <tbody>\n",
              "    <tr>\n",
              "      <th>AMT_PAYMENT_CURRENT</th>\n",
              "      <td>767988</td>\n",
              "      <td>4.45</td>\n",
              "      <td>20.00</td>\n",
              "    </tr>\n",
              "    <tr>\n",
              "      <th>AMT_DRAWINGS_ATM_CURRENT</th>\n",
              "      <td>749816</td>\n",
              "      <td>4.29</td>\n",
              "      <td>19.52</td>\n",
              "    </tr>\n",
              "    <tr>\n",
              "      <th>CNT_DRAWINGS_POS_CURRENT</th>\n",
              "      <td>749816</td>\n",
              "      <td>4.29</td>\n",
              "      <td>19.52</td>\n",
              "    </tr>\n",
              "    <tr>\n",
              "      <th>AMT_DRAWINGS_OTHER_CURRENT</th>\n",
              "      <td>749816</td>\n",
              "      <td>4.29</td>\n",
              "      <td>19.52</td>\n",
              "    </tr>\n",
              "    <tr>\n",
              "      <th>AMT_DRAWINGS_POS_CURRENT</th>\n",
              "      <td>749816</td>\n",
              "      <td>4.29</td>\n",
              "      <td>19.52</td>\n",
              "    </tr>\n",
              "    <tr>\n",
              "      <th>CNT_DRAWINGS_OTHER_CURRENT</th>\n",
              "      <td>749816</td>\n",
              "      <td>4.29</td>\n",
              "      <td>19.52</td>\n",
              "    </tr>\n",
              "    <tr>\n",
              "      <th>CNT_DRAWINGS_ATM_CURRENT</th>\n",
              "      <td>749816</td>\n",
              "      <td>4.29</td>\n",
              "      <td>19.52</td>\n",
              "    </tr>\n",
              "    <tr>\n",
              "      <th>CNT_INSTALMENT_MATURE_CUM</th>\n",
              "      <td>305236</td>\n",
              "      <td>0.43</td>\n",
              "      <td>7.95</td>\n",
              "    </tr>\n",
              "    <tr>\n",
              "      <th>AMT_INST_MIN_REGULARITY</th>\n",
              "      <td>305236</td>\n",
              "      <td>0.43</td>\n",
              "      <td>7.95</td>\n",
              "    </tr>\n",
              "  </tbody>\n",
              "</table>\n",
              "</div>"
            ],
            "text/plain": [
              "                             count  standardised_score  percentage\n",
              "AMT_PAYMENT_CURRENT         767988                4.45       20.00\n",
              "AMT_DRAWINGS_ATM_CURRENT    749816                4.29       19.52\n",
              "CNT_DRAWINGS_POS_CURRENT    749816                4.29       19.52\n",
              "AMT_DRAWINGS_OTHER_CURRENT  749816                4.29       19.52\n",
              "AMT_DRAWINGS_POS_CURRENT    749816                4.29       19.52\n",
              "CNT_DRAWINGS_OTHER_CURRENT  749816                4.29       19.52\n",
              "CNT_DRAWINGS_ATM_CURRENT    749816                4.29       19.52\n",
              "CNT_INSTALMENT_MATURE_CUM   305236                0.43        7.95\n",
              "AMT_INST_MIN_REGULARITY     305236                0.43        7.95"
            ]
          },
          "metadata": {
            "tags": []
          },
          "execution_count": 47
        },
        {
          "output_type": "display_data",
          "data": {
            "image/png": "[encoded data removed]",
            "text/plain": [
              "<Figure size 1080x720 with 1 Axes>"
            ]
          },
          "metadata": {
            "tags": [],
            "needs_background": "light"
          }
        }
      ]
    },
    {
      "cell_type": "code",
      "metadata": {
        "id": "HcbfUAc4l1Dt",
        "colab_type": "code",
        "colab": {
          "base_uri": "https://localhost:8080/",
          "height": 1000
        },
        "outputId": "cfb5de49-8362-4685-f5b6-a1dd03e2dc75"
      },
      "source": [
        "missing_info(prev_appl)"
      ],
      "execution_count": null,
      "outputs": [
        {
          "output_type": "execute_result",
          "data": {
            "text/html": [
              "<div>\n",
              "<style scoped>\n",
              "    .dataframe tbody tr th:only-of-type {\n",
              "        vertical-align: middle;\n",
              "    }\n",
              "\n",
              "    .dataframe tbody tr th {\n",
              "        vertical-align: top;\n",
              "    }\n",
              "\n",
              "    .dataframe thead th {\n",
              "        text-align: right;\n",
              "    }\n",
              "</style>\n",
              "<table border=\"1\" class=\"dataframe\">\n",
              "  <thead>\n",
              "    <tr style=\"text-align: right;\">\n",
              "      <th></th>\n",
              "      <th>count</th>\n",
              "      <th>standardised_score</th>\n",
              "      <th>percentage</th>\n",
              "    </tr>\n",
              "  </thead>\n",
              "  <tbody>\n",
              "    <tr>\n",
              "      <th>RATE_INTEREST_PRIVILEGED</th>\n",
              "      <td>1664263</td>\n",
              "      <td>6.62</td>\n",
              "      <td>99.64</td>\n",
              "    </tr>\n",
              "    <tr>\n",
              "      <th>RATE_INTEREST_PRIMARY</th>\n",
              "      <td>1664263</td>\n",
              "      <td>6.62</td>\n",
              "      <td>99.64</td>\n",
              "    </tr>\n",
              "    <tr>\n",
              "      <th>AMT_DOWN_PAYMENT</th>\n",
              "      <td>895844</td>\n",
              "      <td>2.89</td>\n",
              "      <td>53.64</td>\n",
              "    </tr>\n",
              "    <tr>\n",
              "      <th>RATE_DOWN_PAYMENT</th>\n",
              "      <td>895844</td>\n",
              "      <td>2.89</td>\n",
              "      <td>53.64</td>\n",
              "    </tr>\n",
              "    <tr>\n",
              "      <th>NAME_TYPE_SUITE</th>\n",
              "      <td>820405</td>\n",
              "      <td>2.52</td>\n",
              "      <td>49.12</td>\n",
              "    </tr>\n",
              "    <tr>\n",
              "      <th>NFLAG_INSURED_ON_APPROVAL</th>\n",
              "      <td>673065</td>\n",
              "      <td>1.81</td>\n",
              "      <td>40.30</td>\n",
              "    </tr>\n",
              "    <tr>\n",
              "      <th>DAYS_TERMINATION</th>\n",
              "      <td>673065</td>\n",
              "      <td>1.81</td>\n",
              "      <td>40.30</td>\n",
              "    </tr>\n",
              "    <tr>\n",
              "      <th>DAYS_LAST_DUE</th>\n",
              "      <td>673065</td>\n",
              "      <td>1.81</td>\n",
              "      <td>40.30</td>\n",
              "    </tr>\n",
              "    <tr>\n",
              "      <th>DAYS_LAST_DUE_1ST_VERSION</th>\n",
              "      <td>673065</td>\n",
              "      <td>1.81</td>\n",
              "      <td>40.30</td>\n",
              "    </tr>\n",
              "    <tr>\n",
              "      <th>DAYS_FIRST_DUE</th>\n",
              "      <td>673065</td>\n",
              "      <td>1.81</td>\n",
              "      <td>40.30</td>\n",
              "    </tr>\n",
              "    <tr>\n",
              "      <th>DAYS_FIRST_DRAWING</th>\n",
              "      <td>673065</td>\n",
              "      <td>1.81</td>\n",
              "      <td>40.30</td>\n",
              "    </tr>\n",
              "    <tr>\n",
              "      <th>AMT_GOODS_PRICE</th>\n",
              "      <td>385515</td>\n",
              "      <td>0.41</td>\n",
              "      <td>23.08</td>\n",
              "    </tr>\n",
              "    <tr>\n",
              "      <th>AMT_ANNUITY</th>\n",
              "      <td>372235</td>\n",
              "      <td>0.35</td>\n",
              "      <td>22.29</td>\n",
              "    </tr>\n",
              "    <tr>\n",
              "      <th>CNT_PAYMENT</th>\n",
              "      <td>372230</td>\n",
              "      <td>0.35</td>\n",
              "      <td>22.29</td>\n",
              "    </tr>\n",
              "    <tr>\n",
              "      <th>PRODUCT_COMBINATION</th>\n",
              "      <td>346</td>\n",
              "      <td>-1.46</td>\n",
              "      <td>0.02</td>\n",
              "    </tr>\n",
              "  </tbody>\n",
              "</table>\n",
              "</div>"
            ],
            "text/plain": [
              "                             count  standardised_score  percentage\n",
              "RATE_INTEREST_PRIVILEGED   1664263                6.62       99.64\n",
              "RATE_INTEREST_PRIMARY      1664263                6.62       99.64\n",
              "AMT_DOWN_PAYMENT            895844                2.89       53.64\n",
              "RATE_DOWN_PAYMENT           895844                2.89       53.64\n",
              "NAME_TYPE_SUITE             820405                2.52       49.12\n",
              "NFLAG_INSURED_ON_APPROVAL   673065                1.81       40.30\n",
              "DAYS_TERMINATION            673065                1.81       40.30\n",
              "DAYS_LAST_DUE               673065                1.81       40.30\n",
              "DAYS_LAST_DUE_1ST_VERSION   673065                1.81       40.30\n",
              "DAYS_FIRST_DUE              673065                1.81       40.30\n",
              "DAYS_FIRST_DRAWING          673065                1.81       40.30\n",
              "AMT_GOODS_PRICE             385515                0.41       23.08\n",
              "AMT_ANNUITY                 372235                0.35       22.29\n",
              "CNT_PAYMENT                 372230                0.35       22.29\n",
              "PRODUCT_COMBINATION            346               -1.46        0.02"
            ]
          },
          "metadata": {
            "tags": []
          },
          "execution_count": 52
        },
        {
          "output_type": "display_data",
          "data": {
            "image/png": "[encoded data removed]",
            "text/plain": [
              "<Figure size 1080x720 with 1 Axes>"
            ]
          },
          "metadata": {
            "tags": [],
            "needs_background": "light"
          }
        }
      ]
    },
    {
      "cell_type": "code",
      "metadata": {
        "id": "ZjGCH3jwmaWW",
        "colab_type": "code",
        "colab": {
          "base_uri": "https://localhost:8080/",
          "height": 834
        },
        "outputId": "5979f8d0-b6bd-446c-90dc-dd28d1c1ca72"
      },
      "source": [
        "missing_info(pos)"
      ],
      "execution_count": null,
      "outputs": [
        {
          "output_type": "execute_result",
          "data": {
            "text/html": [
              "<div>\n",
              "<style scoped>\n",
              "    .dataframe tbody tr th:only-of-type {\n",
              "        vertical-align: middle;\n",
              "    }\n",
              "\n",
              "    .dataframe tbody tr th {\n",
              "        vertical-align: top;\n",
              "    }\n",
              "\n",
              "    .dataframe thead th {\n",
              "        text-align: right;\n",
              "    }\n",
              "</style>\n",
              "<table border=\"1\" class=\"dataframe\">\n",
              "  <thead>\n",
              "    <tr style=\"text-align: right;\">\n",
              "      <th></th>\n",
              "      <th>count</th>\n",
              "      <th>standardised_score</th>\n",
              "      <th>percentage</th>\n",
              "    </tr>\n",
              "  </thead>\n",
              "  <tbody>\n",
              "    <tr>\n",
              "      <th>CNT_INSTALMENT_FUTURE</th>\n",
              "      <td>26087</td>\n",
              "      <td>153.44</td>\n",
              "      <td>0.26</td>\n",
              "    </tr>\n",
              "    <tr>\n",
              "      <th>CNT_INSTALMENT</th>\n",
              "      <td>26071</td>\n",
              "      <td>153.32</td>\n",
              "      <td>0.26</td>\n",
              "    </tr>\n",
              "  </tbody>\n",
              "</table>\n",
              "</div>"
            ],
            "text/plain": [
              "                       count  standardised_score  percentage\n",
              "CNT_INSTALMENT_FUTURE  26087              153.44        0.26\n",
              "CNT_INSTALMENT         26071              153.32        0.26"
            ]
          },
          "metadata": {
            "tags": []
          },
          "execution_count": 54
        },
        {
          "output_type": "display_data",
          "data": {
            "image/png": "[encoded data removed]",
            "text/plain": [
              "<Figure size 1080x720 with 1 Axes>"
            ]
          },
          "metadata": {
            "tags": [],
            "needs_background": "light"
          }
        }
      ]
    },
    {
      "cell_type": "code",
      "metadata": {
        "id": "89zWiDXBmTyu",
        "colab_type": "code",
        "colab": {
          "base_uri": "https://localhost:8080/",
          "height": 814
        },
        "outputId": "8645b25f-f089-418d-a3be-775eb56b2b2a"
      },
      "source": [
        "missing_info(inp)"
      ],
      "execution_count": null,
      "outputs": [
        {
          "output_type": "execute_result",
          "data": {
            "text/html": [
              "<div>\n",
              "<style scoped>\n",
              "    .dataframe tbody tr th:only-of-type {\n",
              "        vertical-align: middle;\n",
              "    }\n",
              "\n",
              "    .dataframe tbody tr th {\n",
              "        vertical-align: top;\n",
              "    }\n",
              "\n",
              "    .dataframe thead th {\n",
              "        text-align: right;\n",
              "    }\n",
              "</style>\n",
              "<table border=\"1\" class=\"dataframe\">\n",
              "  <thead>\n",
              "    <tr style=\"text-align: right;\">\n",
              "      <th></th>\n",
              "      <th>count</th>\n",
              "      <th>standardised_score</th>\n",
              "      <th>percentage</th>\n",
              "    </tr>\n",
              "  </thead>\n",
              "  <tbody>\n",
              "    <tr>\n",
              "      <th>DAYS_ENTRY_PAYMENT</th>\n",
              "      <td>2905</td>\n",
              "      <td>1376.94</td>\n",
              "      <td>0.02</td>\n",
              "    </tr>\n",
              "    <tr>\n",
              "      <th>AMT_PAYMENT</th>\n",
              "      <td>2905</td>\n",
              "      <td>1376.94</td>\n",
              "      <td>0.02</td>\n",
              "    </tr>\n",
              "  </tbody>\n",
              "</table>\n",
              "</div>"
            ],
            "text/plain": [
              "                    count  standardised_score  percentage\n",
              "DAYS_ENTRY_PAYMENT   2905             1376.94        0.02\n",
              "AMT_PAYMENT          2905             1376.94        0.02"
            ]
          },
          "metadata": {
            "tags": []
          },
          "execution_count": 53
        },
        {
          "output_type": "display_data",
          "data": {
            "image/png": "[encoded data removed]",
            "text/plain": [
              "<Figure size 1080x720 with 1 Axes>"
            ]
          },
          "metadata": {
            "tags": [],
            "needs_background": "light"
          }
        }
      ]
    },
    {
      "cell_type": "markdown",
      "metadata": {
        "id": "gLvjzD2OsFnc",
        "colab_type": "text"
      },
      "source": [
        "###Column types of all dataset"
      ]
    },
    {
      "cell_type": "code",
      "metadata": {
        "id": "vvVtvUhXe_mg",
        "colab_type": "code",
        "colab": {}
      },
      "source": [
        "# The first hurdle we face is due to the columns with several categories. So, first we have to encode those columns to proceed further.\n",
        "# Before that, let's have a look at the column types of the data sets.\n",
        "\n",
        "#################### Function to check the column types #######################\n",
        "def coltyp(dataframe):\n",
        "    type=dataframe.dtypes.value_counts()\n",
        "  #we will see number of unique categories for each object\n",
        "    cat= dataframe.select_dtypes('object').apply(pd.Series.nunique,axis=0)\n",
        "    print(type)\n",
        "    return cat"
      ],
      "execution_count": null,
      "outputs": []
    },
    {
      "cell_type": "code",
      "metadata": {
        "id": "Zg-5kErde_kj",
        "colab_type": "code",
        "colab": {
          "base_uri": "https://localhost:8080/",
          "height": 370
        },
        "outputId": "81b139e4-1c62-430d-a2c2-16d1035fd6f9"
      },
      "source": [
        "coltyp(app_train)"
      ],
      "execution_count": null,
      "outputs": [
        {
          "output_type": "stream",
          "text": [
            "float64    65\n",
            "int64      41\n",
            "object     16\n",
            "dtype: int64\n"
          ],
          "name": "stdout"
        },
        {
          "output_type": "execute_result",
          "data": {
            "text/plain": [
              "NAME_CONTRACT_TYPE             2\n",
              "CODE_GENDER                    3\n",
              "FLAG_OWN_CAR                   2\n",
              "FLAG_OWN_REALTY                2\n",
              "NAME_TYPE_SUITE                7\n",
              "NAME_INCOME_TYPE               8\n",
              "NAME_EDUCATION_TYPE            5\n",
              "NAME_FAMILY_STATUS             6\n",
              "NAME_HOUSING_TYPE              6\n",
              "OCCUPATION_TYPE               18\n",
              "WEEKDAY_APPR_PROCESS_START     7\n",
              "ORGANIZATION_TYPE             58\n",
              "FONDKAPREMONT_MODE             4\n",
              "HOUSETYPE_MODE                 3\n",
              "WALLSMATERIAL_MODE             7\n",
              "EMERGENCYSTATE_MODE            2\n",
              "dtype: int64"
            ]
          },
          "metadata": {
            "tags": []
          },
          "execution_count": 56
        }
      ]
    },
    {
      "cell_type": "code",
      "metadata": {
        "id": "83gFVuAXsaN5",
        "colab_type": "code",
        "colab": {
          "base_uri": "https://localhost:8080/",
          "height": 370
        },
        "outputId": "09ec8248-f256-48b5-ca0f-49ea58cbda3f"
      },
      "source": [
        "coltyp(app_test)"
      ],
      "execution_count": null,
      "outputs": [
        {
          "output_type": "stream",
          "text": [
            "float64    65\n",
            "int64      40\n",
            "object     16\n",
            "dtype: int64\n"
          ],
          "name": "stdout"
        },
        {
          "output_type": "execute_result",
          "data": {
            "text/plain": [
              "NAME_CONTRACT_TYPE             2\n",
              "CODE_GENDER                    2\n",
              "FLAG_OWN_CAR                   2\n",
              "FLAG_OWN_REALTY                2\n",
              "NAME_TYPE_SUITE                7\n",
              "NAME_INCOME_TYPE               7\n",
              "NAME_EDUCATION_TYPE            5\n",
              "NAME_FAMILY_STATUS             5\n",
              "NAME_HOUSING_TYPE              6\n",
              "OCCUPATION_TYPE               18\n",
              "WEEKDAY_APPR_PROCESS_START     7\n",
              "ORGANIZATION_TYPE             58\n",
              "FONDKAPREMONT_MODE             4\n",
              "HOUSETYPE_MODE                 3\n",
              "WALLSMATERIAL_MODE             7\n",
              "EMERGENCYSTATE_MODE            2\n",
              "dtype: int64"
            ]
          },
          "metadata": {
            "tags": []
          },
          "execution_count": 57
        }
      ]
    },
    {
      "cell_type": "code",
      "metadata": {
        "id": "ydyyq-SDmn_9",
        "colab_type": "code",
        "colab": {
          "base_uri": "https://localhost:8080/",
          "height": 151
        },
        "outputId": "4f81ee30-4956-4c9e-9ec4-2da18824f806"
      },
      "source": [
        "coltyp(bureau)"
      ],
      "execution_count": null,
      "outputs": [
        {
          "output_type": "stream",
          "text": [
            "float64    8\n",
            "int64      6\n",
            "object     3\n",
            "dtype: int64\n"
          ],
          "name": "stdout"
        },
        {
          "output_type": "execute_result",
          "data": {
            "text/plain": [
              "CREDIT_ACTIVE       4\n",
              "CREDIT_CURRENCY     4\n",
              "CREDIT_TYPE        15\n",
              "dtype: int64"
            ]
          },
          "metadata": {
            "tags": []
          },
          "execution_count": 59
        }
      ]
    },
    {
      "cell_type": "code",
      "metadata": {
        "id": "YrDDdlO8mo4b",
        "colab_type": "code",
        "colab": {
          "base_uri": "https://localhost:8080/",
          "height": 101
        },
        "outputId": "c9caca86-d792-406b-ed2f-8d08e6efa3d4"
      },
      "source": [
        "coltyp(br_bal)"
      ],
      "execution_count": null,
      "outputs": [
        {
          "output_type": "stream",
          "text": [
            "int64     2\n",
            "object    1\n",
            "dtype: int64\n"
          ],
          "name": "stdout"
        },
        {
          "output_type": "execute_result",
          "data": {
            "text/plain": [
              "STATUS    8\n",
              "dtype: int64"
            ]
          },
          "metadata": {
            "tags": []
          },
          "execution_count": 60
        }
      ]
    },
    {
      "cell_type": "code",
      "metadata": {
        "id": "4BJnGg4rmo1n",
        "colab_type": "code",
        "colab": {
          "base_uri": "https://localhost:8080/",
          "height": 84
        },
        "outputId": "dbb59ba3-6b61-4115-c28d-709d870a469f"
      },
      "source": [
        "coltyp(samp_sub)"
      ],
      "execution_count": null,
      "outputs": [
        {
          "output_type": "stream",
          "text": [
            "int64      1\n",
            "float64    1\n",
            "dtype: int64\n"
          ],
          "name": "stdout"
        },
        {
          "output_type": "execute_result",
          "data": {
            "text/plain": [
              "Series([], dtype: float64)"
            ]
          },
          "metadata": {
            "tags": []
          },
          "execution_count": 61
        }
      ]
    },
    {
      "cell_type": "code",
      "metadata": {
        "id": "E9Pz47HMmoy7",
        "colab_type": "code",
        "colab": {
          "base_uri": "https://localhost:8080/",
          "height": 118
        },
        "outputId": "a12ebb68-8f1d-45f5-b285-676efd4d10f5"
      },
      "source": [
        "coltyp(ccb)"
      ],
      "execution_count": null,
      "outputs": [
        {
          "output_type": "stream",
          "text": [
            "float64    15\n",
            "int64       7\n",
            "object      1\n",
            "dtype: int64\n"
          ],
          "name": "stdout"
        },
        {
          "output_type": "execute_result",
          "data": {
            "text/plain": [
              "NAME_CONTRACT_STATUS    7\n",
              "dtype: int64"
            ]
          },
          "metadata": {
            "tags": []
          },
          "execution_count": 62
        }
      ]
    },
    {
      "cell_type": "code",
      "metadata": {
        "id": "lJuG5LT1ndc5",
        "colab_type": "code",
        "colab": {
          "base_uri": "https://localhost:8080/",
          "height": 370
        },
        "outputId": "aea422b2-7825-4f7b-d83f-65cb54affb3d"
      },
      "source": [
        "coltyp(prev_appl)"
      ],
      "execution_count": null,
      "outputs": [
        {
          "output_type": "stream",
          "text": [
            "object     16\n",
            "float64    15\n",
            "int64       6\n",
            "dtype: int64\n"
          ],
          "name": "stdout"
        },
        {
          "output_type": "execute_result",
          "data": {
            "text/plain": [
              "NAME_CONTRACT_TYPE              4\n",
              "WEEKDAY_APPR_PROCESS_START      7\n",
              "FLAG_LAST_APPL_PER_CONTRACT     2\n",
              "NAME_CASH_LOAN_PURPOSE         25\n",
              "NAME_CONTRACT_STATUS            4\n",
              "NAME_PAYMENT_TYPE               4\n",
              "CODE_REJECT_REASON              9\n",
              "NAME_TYPE_SUITE                 7\n",
              "NAME_CLIENT_TYPE                4\n",
              "NAME_GOODS_CATEGORY            28\n",
              "NAME_PORTFOLIO                  5\n",
              "NAME_PRODUCT_TYPE               3\n",
              "CHANNEL_TYPE                    8\n",
              "NAME_SELLER_INDUSTRY           11\n",
              "NAME_YIELD_GROUP                5\n",
              "PRODUCT_COMBINATION            17\n",
              "dtype: int64"
            ]
          },
          "metadata": {
            "tags": []
          },
          "execution_count": 63
        }
      ]
    },
    {
      "cell_type": "code",
      "metadata": {
        "id": "ER4lS-9vpjhb",
        "colab_type": "code",
        "colab": {
          "base_uri": "https://localhost:8080/",
          "height": 118
        },
        "outputId": "9ecb0535-586a-4e7b-81df-a5f56142dba5"
      },
      "source": [
        "coltyp(pos)"
      ],
      "execution_count": null,
      "outputs": [
        {
          "output_type": "stream",
          "text": [
            "int64      5\n",
            "float64    2\n",
            "object     1\n",
            "dtype: int64\n"
          ],
          "name": "stdout"
        },
        {
          "output_type": "execute_result",
          "data": {
            "text/plain": [
              "NAME_CONTRACT_STATUS    9\n",
              "dtype: int64"
            ]
          },
          "metadata": {
            "tags": []
          },
          "execution_count": 81
        }
      ]
    },
    {
      "cell_type": "code",
      "metadata": {
        "id": "rUsg6JAgndXi",
        "colab_type": "code",
        "colab": {
          "base_uri": "https://localhost:8080/",
          "height": 84
        },
        "outputId": "77309226-fb91-4ded-ecb4-66982f70a926"
      },
      "source": [
        "coltyp(inp)"
      ],
      "execution_count": null,
      "outputs": [
        {
          "output_type": "stream",
          "text": [
            "float64    5\n",
            "int64      3\n",
            "dtype: int64\n"
          ],
          "name": "stdout"
        },
        {
          "output_type": "execute_result",
          "data": {
            "text/plain": [
              "Series([], dtype: float64)"
            ]
          },
          "metadata": {
            "tags": []
          },
          "execution_count": 80
        }
      ]
    },
    {
      "cell_type": "markdown",
      "metadata": {
        "id": "LqmGW5lQpoml",
        "colab_type": "text"
      },
      "source": [
        "###More examination on train and test dataset"
      ]
    },
    {
      "cell_type": "code",
      "metadata": {
        "id": "xtbCDhNGudLG",
        "colab_type": "code",
        "colab": {
          "base_uri": "https://localhost:8080/",
          "height": 282
        },
        "outputId": "ac7c3388-bb11-4e32-ff14-9f62f9007115"
      },
      "source": [
        "app_train['TARGET'].astype(int).plot.hist(color = 'red')"
      ],
      "execution_count": null,
      "outputs": [
        {
          "output_type": "execute_result",
          "data": {
            "text/plain": [
              "<matplotlib.axes._subplots.AxesSubplot at 0x7fe97bf9bd30>"
            ]
          },
          "metadata": {
            "tags": []
          },
          "execution_count": 14
        },
        {
          "output_type": "display_data",
          "data": {
            "image/png": "[encoded data removed]",
            "text/plain": [
              "<Figure size 432x288 with 1 Axes>"
            ]
          },
          "metadata": {
            "tags": [],
            "needs_background": "light"
          }
        }
      ]
    },
    {
      "cell_type": "code",
      "metadata": {
        "id": "V6Hom-xWp5Nm",
        "colab_type": "code",
        "colab": {}
      },
      "source": [
        "selected_train_column =app_train[['TARGET','DAYS_EMPLOYED', 'DAYS_BIRTH', 'AMT_CREDIT', 'AMT_ANNUITY', 'AMT_GOODS_PRICE', 'AMT_INCOME_TOTAL', \"CNT_FAM_MEMBERS\", \"CNT_CHILDREN\", \"EXT_SOURCE_1\", \"EXT_SOURCE_2\", \"EXT_SOURCE_3\"]]\n",
        "selected_test_column = app_test [['DAYS_EMPLOYED', 'DAYS_BIRTH', 'AMT_CREDIT', 'AMT_ANNUITY', 'AMT_GOODS_PRICE', 'AMT_INCOME_TOTAL']]"
      ],
      "execution_count": 3,
      "outputs": []
    },
    {
      "cell_type": "markdown",
      "metadata": {
        "id": "5kRCREIsMYE5",
        "colab_type": "text"
      },
      "source": [
        "Plotting histogram on Target against some selected features"
      ]
    },
    {
      "cell_type": "code",
      "metadata": {
        "id": "ft_l5cWewh8E",
        "colab_type": "code",
        "colab": {}
      },
      "source": [
        "def distributions(dataset, target_variable, selected_variable):\n",
        "    dataset_0 = dataset[dataset[target_variable] == 0]\n",
        "    dataset_1 = dataset[dataset[target_variable] == 1]\n",
        "    for variables in selected_variable:\n",
        "        _, figure = plt.subplots(1, 2, figsize = (20, 5), sharex = True)\n",
        "        figure[0].set_title(\"TARGET 0\")\n",
        "        figure[1].set_title(\"TARGET 1\")\n",
        "        sns.distplot(dataset_0[variables].dropna(), ax = figure[0], kde = False)\n",
        "        sns.distplot(dataset_1[variables].dropna(), ax = figure[1], kde = False, color = \"g\")"
      ],
      "execution_count": null,
      "outputs": []
    },
    {
      "cell_type": "code",
      "metadata": {
        "id": "YBpU7muKxFUN",
        "colab_type": "code",
        "colab": {
          "base_uri": "https://localhost:8080/",
          "height": 1000
        },
        "outputId": "ac2231ed-777f-45ec-8ea5-6c7847c37f34"
      },
      "source": [
        "distributions(app_train, \"TARGET\", selected_train_column.iloc[:,1:])"
      ],
      "execution_count": null,
      "outputs": [
        {
          "output_type": "display_data",
          "data": {
            "image/png": "[encoded data removed]",
            "text/plain": [
              "<Figure size 1440x360 with 2 Axes>"
            ]
          },
          "metadata": {
            "tags": [],
            "needs_background": "light"
          }
        },
        {
          "output_type": "display_data",
          "data": {
            "image/png": "[encoded data removed]",
            "text/plain": [
              "<Figure size 1440x360 with 2 Axes>"
            ]
          },
          "metadata": {
            "tags": [],
            "needs_background": "light"
          }
        },
        {
          "output_type": "display_data",
          "data": {
            "image/png": "[encoded data removed]",
            "text/plain": [
              "<Figure size 1440x360 with 2 Axes>"
            ]
          },
          "metadata": {
            "tags": [],
            "needs_background": "light"
          }
        },
        {
          "output_type": "display_data",
          "data": {
            "image/png": "[encoded data removed]",
            "text/plain": [
              "<Figure size 1440x360 with 2 Axes>"
            ]
          },
          "metadata": {
            "tags": [],
            "needs_background": "light"
          }
        },
        {
          "output_type": "display_data",
          "data": {
            "image/png": "[encoded data removed]",
            "text/plain": [
              "<Figure size 1440x360 with 2 Axes>"
            ]
          },
          "metadata": {
            "tags": [],
            "needs_background": "light"
          }
        },
        {
          "output_type": "display_data",
          "data": {
            "image/png": "[encoded data removed]",
            "text/plain": [
              "<Figure size 1440x360 with 2 Axes>"
            ]
          },
          "metadata": {
            "tags": [],
            "needs_background": "light"
          }
        },
        {
          "output_type": "display_data",
          "data": {
            "image/png": "[encoded data removed]",
            "text/plain": [
              "<Figure size 1440x360 with 2 Axes>"
            ]
          },
          "metadata": {
            "tags": [],
            "needs_background": "light"
          }
        },
        {
          "output_type": "display_data",
          "data": {
            "image/png": "[encoded data removed]",
            "text/plain": [
              "<Figure size 1440x360 with 2 Axes>"
            ]
          },
          "metadata": {
            "tags": [],
            "needs_background": "light"
          }
        },
        {
          "output_type": "display_data",
          "data": {
            "image/png": "[encoded data removed]",
            "text/plain": [
              "<Figure size 1440x360 with 2 Axes>"
            ]
          },
          "metadata": {
            "tags": [],
            "needs_background": "light"
          }
        },
        {
          "output_type": "display_data",
          "data": {
            "image/png": "[encoded data removed]",
            "text/plain": [
              "<Figure size 1440x360 with 2 Axes>"
            ]
          },
          "metadata": {
            "tags": [],
            "needs_background": "light"
          }
        },
        {
          "output_type": "display_data",
          "data": {
            "image/png": "[encoded data removed]",
            "text/plain": [
              "<Figure size 1440x360 with 2 Axes>"
            ]
          },
          "metadata": {
            "tags": [],
            "needs_background": "light"
          }
        }
      ]
    },
    {
      "cell_type": "code",
      "metadata": {
        "id": "jdeuDxGKV5-6",
        "colab_type": "code",
        "colab": {
          "base_uri": "https://localhost:8080/",
          "height": 590
        },
        "outputId": "56cbba4e-0336-456c-939b-29837e01f035"
      },
      "source": [
        "# most correlated features\n",
        "corrmat = selected_train_column.corr()\n",
        "top_corr_features = corrmat.index[abs(corrmat['TARGET'])>=0.03]\n",
        "plt.figure(figsize=(20,10))\n",
        "g = sns.heatmap(selected_train_column[top_corr_features].corr(),annot=True,cmap=\"Greens\")"
      ],
      "execution_count": null,
      "outputs": [
        {
          "output_type": "display_data",
          "data": {
            "image/png": "[encoded data removed]",
            "text/plain": [
              "<Figure size 1440x720 with 2 Axes>"
            ]
          },
          "metadata": {
            "tags": [],
            "needs_background": "light"
          }
        }
      ]
    },
    {
      "cell_type": "code",
      "metadata": {
        "id": "9o_XQOc7nvbO",
        "colab_type": "code",
        "colab": {}
      },
      "source": [
        "feature_train = pd.DataFrame()\n",
        "feature_train['employee_birth_ratio'] = selected_train_column.iloc[:,1] /selected_train_column.iloc[:,2]\n",
        "\n",
        "feature_train['annuity_credit_ratio'] = selected_train_column.iloc[:,3] / selected_train_column.iloc[:,4]\n",
        "\n",
        "feature_train['goods_credit_ratio'] = selected_train_column.iloc[:,3] / selected_train_column.iloc[:,5]\n",
        "\n",
        "feature_train['Credit_to_Income_Ratio'] = selected_train_column.iloc[:,3] /  selected_train_column.iloc[:,6]\n",
        "\n",
        "app_train=pd.concat([app_train,feature_train],axis=1)"
      ],
      "execution_count": 4,
      "outputs": []
    },
    {
      "cell_type": "code",
      "metadata": {
        "id": "qKQvgTVXn5Jw",
        "colab_type": "code",
        "colab": {}
      },
      "source": [
        "feature_test = pd.DataFrame()\n",
        "feature_test['employee_birth_ratio'] = selected_test_column.iloc[:,0] /selected_test_column.iloc[:,1]\n",
        "\n",
        "feature_test['annuity_credit_ratio'] = selected_test_column.iloc[:,2] / selected_test_column.iloc[:,3]\n",
        "\n",
        "feature_test['goods_credit_ratio'] = selected_test_column.iloc[:,2] / selected_test_column.iloc[:,4]\n",
        "\n",
        "feature_test['Credit_to_Income_Ratio'] = selected_test_column.iloc[:,2] /  selected_test_column.iloc[:,5]\n",
        "\n",
        "app_test=pd.concat([app_test,feature_test],axis=1)"
      ],
      "execution_count": 5,
      "outputs": []
    },
    {
      "cell_type": "code",
      "metadata": {
        "id": "0pe-FxI5e_f6",
        "colab_type": "code",
        "colab": {}
      },
      "source": [
        "# Now we have to conduct the one hot encoding:\n",
        "def onehot(dataframe):\n",
        "    df=pd.get_dummies(dataframe)\n",
        "    print(df.shape)\n",
        "    return(df)"
      ],
      "execution_count": 6,
      "outputs": []
    },
    {
      "cell_type": "code",
      "metadata": {
        "id": "3PTRn8jne_eF",
        "colab_type": "code",
        "colab": {
          "base_uri": "https://localhost:8080/",
          "height": 34
        },
        "outputId": "81826541-875f-4202-800e-aaaf76723b0d"
      },
      "source": [
        "app_train=onehot(app_train)"
      ],
      "execution_count": 7,
      "outputs": [
        {
          "output_type": "stream",
          "text": [
            "(307511, 250)\n"
          ],
          "name": "stdout"
        }
      ]
    },
    {
      "cell_type": "code",
      "metadata": {
        "id": "j6TnBznhiAM5",
        "colab_type": "code",
        "colab": {
          "base_uri": "https://localhost:8080/",
          "height": 34
        },
        "outputId": "0ce6fcc7-b6e5-4aa7-893a-0748e74f6415"
      },
      "source": [
        "app_test = onehot(app_test)"
      ],
      "execution_count": 8,
      "outputs": [
        {
          "output_type": "stream",
          "text": [
            "(48744, 246)\n"
          ],
          "name": "stdout"
        }
      ]
    },
    {
      "cell_type": "code",
      "metadata": {
        "id": "8XiC8erfiAJf",
        "colab_type": "code",
        "colab": {}
      },
      "source": [
        "imputer = SimpleImputer(missing_values=np.nan, strategy='mean')\n",
        "imputer.fit(app_train)\n",
        "app_train.loc[:]=imputer.transform(app_train)"
      ],
      "execution_count": 9,
      "outputs": []
    },
    {
      "cell_type": "code",
      "metadata": {
        "id": "BXQO-XrRjEAm",
        "colab_type": "code",
        "colab": {}
      },
      "source": [
        "imputer = SimpleImputer(missing_values=np.nan, strategy='mean')\n",
        "imputer.fit(app_test)\n",
        "app_test.loc[:]=imputer.transform(app_test)"
      ],
      "execution_count": 10,
      "outputs": []
    },
    {
      "cell_type": "code",
      "metadata": {
        "id": "M_nUO0NUiAEQ",
        "colab_type": "code",
        "colab": {
          "base_uri": "https://localhost:8080/",
          "height": 50
        },
        "outputId": "5f3fb986-7d08-407d-c4c4-e4b0180b7243"
      },
      "source": [
        "app_train_target = app_train['TARGET']\n",
        "app_train, app_test = app_train.align(app_test,join='inner',axis=1)\n",
        "print('Training dataset shape: ', app_train.shape)\n",
        "print('Testing dataset shape: ',app_test.shape)\n",
        "app_train['TARGET'] = app_train_target"
      ],
      "execution_count": 11,
      "outputs": [
        {
          "output_type": "stream",
          "text": [
            "Training dataset shape:  (307511, 246)\n",
            "Testing dataset shape:  (48744, 246)\n"
          ],
          "name": "stdout"
        }
      ]
    },
    {
      "cell_type": "markdown",
      "metadata": {
        "id": "Xekrd00ZxwKA",
        "colab_type": "text"
      },
      "source": [
        "#Working with bureau_balance and bureau dataset"
      ]
    },
    {
      "cell_type": "code",
      "metadata": {
        "id": "93276wkVkSez",
        "colab_type": "code",
        "colab": {
          "base_uri": "https://localhost:8080/",
          "height": 195
        },
        "outputId": "874867c2-0b85-46b6-afb0-8d9eec9b0823"
      },
      "source": [
        "br_bal.head()"
      ],
      "execution_count": null,
      "outputs": [
        {
          "output_type": "execute_result",
          "data": {
            "text/html": [
              "<div>\n",
              "<style scoped>\n",
              "    .dataframe tbody tr th:only-of-type {\n",
              "        vertical-align: middle;\n",
              "    }\n",
              "\n",
              "    .dataframe tbody tr th {\n",
              "        vertical-align: top;\n",
              "    }\n",
              "\n",
              "    .dataframe thead th {\n",
              "        text-align: right;\n",
              "    }\n",
              "</style>\n",
              "<table border=\"1\" class=\"dataframe\">\n",
              "  <thead>\n",
              "    <tr style=\"text-align: right;\">\n",
              "      <th></th>\n",
              "      <th>SK_ID_BUREAU</th>\n",
              "      <th>MONTHS_BALANCE</th>\n",
              "      <th>STATUS</th>\n",
              "    </tr>\n",
              "  </thead>\n",
              "  <tbody>\n",
              "    <tr>\n",
              "      <th>0</th>\n",
              "      <td>5715448</td>\n",
              "      <td>0</td>\n",
              "      <td>C</td>\n",
              "    </tr>\n",
              "    <tr>\n",
              "      <th>1</th>\n",
              "      <td>5715448</td>\n",
              "      <td>-1</td>\n",
              "      <td>C</td>\n",
              "    </tr>\n",
              "    <tr>\n",
              "      <th>2</th>\n",
              "      <td>5715448</td>\n",
              "      <td>-2</td>\n",
              "      <td>C</td>\n",
              "    </tr>\n",
              "    <tr>\n",
              "      <th>3</th>\n",
              "      <td>5715448</td>\n",
              "      <td>-3</td>\n",
              "      <td>C</td>\n",
              "    </tr>\n",
              "    <tr>\n",
              "      <th>4</th>\n",
              "      <td>5715448</td>\n",
              "      <td>-4</td>\n",
              "      <td>C</td>\n",
              "    </tr>\n",
              "  </tbody>\n",
              "</table>\n",
              "</div>"
            ],
            "text/plain": [
              "   SK_ID_BUREAU  MONTHS_BALANCE STATUS\n",
              "0       5715448               0      C\n",
              "1       5715448              -1      C\n",
              "2       5715448              -2      C\n",
              "3       5715448              -3      C\n",
              "4       5715448              -4      C"
            ]
          },
          "metadata": {
            "tags": []
          },
          "execution_count": 55
        }
      ]
    },
    {
      "cell_type": "markdown",
      "metadata": {
        "id": "xMzaSaw7s6FD",
        "colab_type": "text"
      },
      "source": [
        "Counting the values of all the status:\\\n",
        "C = Closed\\\n",
        "X = Status unknown\\\n",
        "0 = Current status, no delay\\\n",
        "1 = 1 month delay\\\n",
        "2 = 2 month delay\\\n",
        "3 = 3 month delay\\\n",
        "4 = 4 month delay\n"
      ]
    },
    {
      "cell_type": "code",
      "metadata": {
        "id": "SMm0v9WokScV",
        "colab_type": "code",
        "colab": {
          "base_uri": "https://localhost:8080/",
          "height": 168
        },
        "outputId": "577a7aad-c7f4-487b-acd8-2c69178b233b"
      },
      "source": [
        "br_bal.STATUS.value_counts()"
      ],
      "execution_count": null,
      "outputs": [
        {
          "output_type": "execute_result",
          "data": {
            "text/plain": [
              "C    13646993\n",
              "0     7499507\n",
              "X     5810482\n",
              "1      242347\n",
              "5       62406\n",
              "2       23419\n",
              "3        8924\n",
              "4        5847\n",
              "Name: STATUS, dtype: int64"
            ]
          },
          "metadata": {
            "tags": []
          },
          "execution_count": 27
        }
      ]
    },
    {
      "cell_type": "markdown",
      "metadata": {
        "id": "r33W1gdGuM-f",
        "colab_type": "text"
      },
      "source": [
        "Grouping the status with respect to the SK_ID_BUREAU of bureau_balance and then using unstack method to reshape the dataset formed by grouping. Some more columns are added by calculating the size, minimum and maximum value with respect to \"SK_ID_BUREAU\" using groupby function. Then the obtained unstack data is merged with bureau dataset."
      ]
    },
    {
      "cell_type": "code",
      "metadata": {
        "id": "hAVEIZ57kSWb",
        "colab_type": "code",
        "colab": {}
      },
      "source": [
        "bureau_counts = br_bal.groupby('SK_ID_BUREAU')['STATUS'].value_counts(normalize = False)\n",
        "bureau_counts_unstacked = bureau_counts.unstack('STATUS')"
      ],
      "execution_count": 12,
      "outputs": []
    },
    {
      "cell_type": "code",
      "metadata": {
        "id": "FdSQrTa8A9hx",
        "colab_type": "code",
        "colab": {}
      },
      "source": [
        "bureau_counts_unstacked.columns = ['STATUS_0', 'STATUS_1','STATUS_2','STATUS_3','STATUS_4','STATUS_5','STATUS_C','STATUS_X',]\n",
        "bureau_counts_unstacked['MONTHS_COUNT'] = br_bal.groupby('SK_ID_BUREAU')['MONTHS_BALANCE'].size()\n",
        "bureau_counts_unstacked['MONTHS_MIN'] = br_bal.groupby('SK_ID_BUREAU')['MONTHS_BALANCE'].min()\n",
        "bureau_counts_unstacked['MONTHS_MAX'] = br_bal.groupby('SK_ID_BUREAU')['MONTHS_BALANCE'].max()"
      ],
      "execution_count": 13,
      "outputs": []
    },
    {
      "cell_type": "code",
      "metadata": {
        "id": "W88BWf5nrM_4",
        "colab_type": "code",
        "colab": {}
      },
      "source": [
        "bureau = bureau.join(bureau_counts_unstacked, how='left', on='SK_ID_BUREAU')"
      ],
      "execution_count": 14,
      "outputs": []
    },
    {
      "cell_type": "code",
      "metadata": {
        "id": "1qQ0PoggrM-G",
        "colab_type": "code",
        "colab": {
          "base_uri": "https://localhost:8080/",
          "height": 34
        },
        "outputId": "13cb1d84-28db-42c8-a1f3-b7a00ddc0ba6"
      },
      "source": [
        "bureau.shape"
      ],
      "execution_count": null,
      "outputs": [
        {
          "output_type": "execute_result",
          "data": {
            "text/plain": [
              "(1716428, 28)"
            ]
          },
          "metadata": {
            "tags": []
          },
          "execution_count": 16
        }
      ]
    },
    {
      "cell_type": "code",
      "metadata": {
        "id": "eaVPjSDErM77",
        "colab_type": "code",
        "colab": {
          "base_uri": "https://localhost:8080/",
          "height": 151
        },
        "outputId": "547317cd-fdf8-4c7c-8088-20b95ec5be57"
      },
      "source": [
        "coltyp(bureau)"
      ],
      "execution_count": null,
      "outputs": [
        {
          "output_type": "stream",
          "text": [
            "float64    19\n",
            "int64       6\n",
            "object      3\n",
            "dtype: int64\n"
          ],
          "name": "stdout"
        },
        {
          "output_type": "execute_result",
          "data": {
            "text/plain": [
              "CREDIT_ACTIVE       4\n",
              "CREDIT_CURRENCY     4\n",
              "CREDIT_TYPE        15\n",
              "dtype: int64"
            ]
          },
          "metadata": {
            "tags": []
          },
          "execution_count": 32
        }
      ]
    },
    {
      "cell_type": "code",
      "metadata": {
        "id": "6T1LSBZDsIXR",
        "colab_type": "code",
        "colab": {
          "base_uri": "https://localhost:8080/",
          "height": 34
        },
        "outputId": "fed57d8f-c11e-4c81-cde8-adddc6151aab"
      },
      "source": [
        "bureau=onehot(bureau)"
      ],
      "execution_count": 15,
      "outputs": [
        {
          "output_type": "stream",
          "text": [
            "(1716428, 48)\n"
          ],
          "name": "stdout"
        }
      ]
    },
    {
      "cell_type": "markdown",
      "metadata": {
        "id": "wit0b-sTwasK",
        "colab_type": "text"
      },
      "source": [
        "Further bureau dataset has been grouped by \"SK_ID_CURR\" and obtained the average. We can drop the \"SK_ID_BUREAU\" as the unique id \"SK_ID_CURR\" is enough to identify the corresponding values."
      ]
    },
    {
      "cell_type": "code",
      "metadata": {
        "id": "fICE9554sIVH",
        "colab_type": "code",
        "colab": {}
      },
      "source": [
        "bureau_avg = bureau.groupby('SK_ID_CURR').mean()\n",
        "bureau_avg['bureau_count'] = bureau[['SK_ID_BUREAU', 'SK_ID_CURR']].groupby('SK_ID_CURR').count()['SK_ID_BUREAU']\n",
        "del bureau_avg['SK_ID_BUREAU']"
      ],
      "execution_count": 16,
      "outputs": []
    },
    {
      "cell_type": "markdown",
      "metadata": {
        "id": "DMgOMlMlByIs",
        "colab_type": "text"
      },
      "source": [
        "#Working with previous_application"
      ]
    },
    {
      "cell_type": "code",
      "metadata": {
        "id": "uTbe35DRsITD",
        "colab_type": "code",
        "colab": {
          "base_uri": "https://localhost:8080/",
          "height": 282
        },
        "outputId": "11b52df9-e620-4508-e130-0d389a2fa6fd"
      },
      "source": [
        "prev_appl.head()"
      ],
      "execution_count": null,
      "outputs": [
        {
          "output_type": "execute_result",
          "data": {
            "text/html": [
              "<div>\n",
              "<style scoped>\n",
              "    .dataframe tbody tr th:only-of-type {\n",
              "        vertical-align: middle;\n",
              "    }\n",
              "\n",
              "    .dataframe tbody tr th {\n",
              "        vertical-align: top;\n",
              "    }\n",
              "\n",
              "    .dataframe thead th {\n",
              "        text-align: right;\n",
              "    }\n",
              "</style>\n",
              "<table border=\"1\" class=\"dataframe\">\n",
              "  <thead>\n",
              "    <tr style=\"text-align: right;\">\n",
              "      <th></th>\n",
              "      <th>SK_ID_PREV</th>\n",
              "      <th>SK_ID_CURR</th>\n",
              "      <th>NAME_CONTRACT_TYPE</th>\n",
              "      <th>AMT_ANNUITY</th>\n",
              "      <th>AMT_APPLICATION</th>\n",
              "      <th>AMT_CREDIT</th>\n",
              "      <th>AMT_DOWN_PAYMENT</th>\n",
              "      <th>AMT_GOODS_PRICE</th>\n",
              "      <th>WEEKDAY_APPR_PROCESS_START</th>\n",
              "      <th>HOUR_APPR_PROCESS_START</th>\n",
              "      <th>FLAG_LAST_APPL_PER_CONTRACT</th>\n",
              "      <th>NFLAG_LAST_APPL_IN_DAY</th>\n",
              "      <th>RATE_DOWN_PAYMENT</th>\n",
              "      <th>RATE_INTEREST_PRIMARY</th>\n",
              "      <th>RATE_INTEREST_PRIVILEGED</th>\n",
              "      <th>NAME_CASH_LOAN_PURPOSE</th>\n",
              "      <th>NAME_CONTRACT_STATUS</th>\n",
              "      <th>DAYS_DECISION</th>\n",
              "      <th>NAME_PAYMENT_TYPE</th>\n",
              "      <th>CODE_REJECT_REASON</th>\n",
              "      <th>NAME_TYPE_SUITE</th>\n",
              "      <th>NAME_CLIENT_TYPE</th>\n",
              "      <th>NAME_GOODS_CATEGORY</th>\n",
              "      <th>NAME_PORTFOLIO</th>\n",
              "      <th>NAME_PRODUCT_TYPE</th>\n",
              "      <th>CHANNEL_TYPE</th>\n",
              "      <th>SELLERPLACE_AREA</th>\n",
              "      <th>NAME_SELLER_INDUSTRY</th>\n",
              "      <th>CNT_PAYMENT</th>\n",
              "      <th>NAME_YIELD_GROUP</th>\n",
              "      <th>PRODUCT_COMBINATION</th>\n",
              "      <th>DAYS_FIRST_DRAWING</th>\n",
              "      <th>DAYS_FIRST_DUE</th>\n",
              "      <th>DAYS_LAST_DUE_1ST_VERSION</th>\n",
              "      <th>DAYS_LAST_DUE</th>\n",
              "      <th>DAYS_TERMINATION</th>\n",
              "      <th>NFLAG_INSURED_ON_APPROVAL</th>\n",
              "    </tr>\n",
              "  </thead>\n",
              "  <tbody>\n",
              "    <tr>\n",
              "      <th>0</th>\n",
              "      <td>2030495</td>\n",
              "      <td>271877</td>\n",
              "      <td>Consumer loans</td>\n",
              "      <td>1730.430</td>\n",
              "      <td>17145.0</td>\n",
              "      <td>17145.0</td>\n",
              "      <td>0.0</td>\n",
              "      <td>17145.0</td>\n",
              "      <td>SATURDAY</td>\n",
              "      <td>15</td>\n",
              "      <td>Y</td>\n",
              "      <td>1</td>\n",
              "      <td>0.0</td>\n",
              "      <td>0.182832</td>\n",
              "      <td>0.867336</td>\n",
              "      <td>XAP</td>\n",
              "      <td>Approved</td>\n",
              "      <td>-73</td>\n",
              "      <td>Cash through the bank</td>\n",
              "      <td>XAP</td>\n",
              "      <td>NaN</td>\n",
              "      <td>Repeater</td>\n",
              "      <td>Mobile</td>\n",
              "      <td>POS</td>\n",
              "      <td>XNA</td>\n",
              "      <td>Country-wide</td>\n",
              "      <td>35</td>\n",
              "      <td>Connectivity</td>\n",
              "      <td>12.0</td>\n",
              "      <td>middle</td>\n",
              "      <td>POS mobile with interest</td>\n",
              "      <td>365243.0</td>\n",
              "      <td>-42.0</td>\n",
              "      <td>300.0</td>\n",
              "      <td>-42.0</td>\n",
              "      <td>-37.0</td>\n",
              "      <td>0.0</td>\n",
              "    </tr>\n",
              "    <tr>\n",
              "      <th>1</th>\n",
              "      <td>2802425</td>\n",
              "      <td>108129</td>\n",
              "      <td>Cash loans</td>\n",
              "      <td>25188.615</td>\n",
              "      <td>607500.0</td>\n",
              "      <td>679671.0</td>\n",
              "      <td>NaN</td>\n",
              "      <td>607500.0</td>\n",
              "      <td>THURSDAY</td>\n",
              "      <td>11</td>\n",
              "      <td>Y</td>\n",
              "      <td>1</td>\n",
              "      <td>NaN</td>\n",
              "      <td>NaN</td>\n",
              "      <td>NaN</td>\n",
              "      <td>XNA</td>\n",
              "      <td>Approved</td>\n",
              "      <td>-164</td>\n",
              "      <td>XNA</td>\n",
              "      <td>XAP</td>\n",
              "      <td>Unaccompanied</td>\n",
              "      <td>Repeater</td>\n",
              "      <td>XNA</td>\n",
              "      <td>Cash</td>\n",
              "      <td>x-sell</td>\n",
              "      <td>Contact center</td>\n",
              "      <td>-1</td>\n",
              "      <td>XNA</td>\n",
              "      <td>36.0</td>\n",
              "      <td>low_action</td>\n",
              "      <td>Cash X-Sell: low</td>\n",
              "      <td>365243.0</td>\n",
              "      <td>-134.0</td>\n",
              "      <td>916.0</td>\n",
              "      <td>365243.0</td>\n",
              "      <td>365243.0</td>\n",
              "      <td>1.0</td>\n",
              "    </tr>\n",
              "    <tr>\n",
              "      <th>2</th>\n",
              "      <td>2523466</td>\n",
              "      <td>122040</td>\n",
              "      <td>Cash loans</td>\n",
              "      <td>15060.735</td>\n",
              "      <td>112500.0</td>\n",
              "      <td>136444.5</td>\n",
              "      <td>NaN</td>\n",
              "      <td>112500.0</td>\n",
              "      <td>TUESDAY</td>\n",
              "      <td>11</td>\n",
              "      <td>Y</td>\n",
              "      <td>1</td>\n",
              "      <td>NaN</td>\n",
              "      <td>NaN</td>\n",
              "      <td>NaN</td>\n",
              "      <td>XNA</td>\n",
              "      <td>Approved</td>\n",
              "      <td>-301</td>\n",
              "      <td>Cash through the bank</td>\n",
              "      <td>XAP</td>\n",
              "      <td>Spouse, partner</td>\n",
              "      <td>Repeater</td>\n",
              "      <td>XNA</td>\n",
              "      <td>Cash</td>\n",
              "      <td>x-sell</td>\n",
              "      <td>Credit and cash offices</td>\n",
              "      <td>-1</td>\n",
              "      <td>XNA</td>\n",
              "      <td>12.0</td>\n",
              "      <td>high</td>\n",
              "      <td>Cash X-Sell: high</td>\n",
              "      <td>365243.0</td>\n",
              "      <td>-271.0</td>\n",
              "      <td>59.0</td>\n",
              "      <td>365243.0</td>\n",
              "      <td>365243.0</td>\n",
              "      <td>1.0</td>\n",
              "    </tr>\n",
              "    <tr>\n",
              "      <th>3</th>\n",
              "      <td>2819243</td>\n",
              "      <td>176158</td>\n",
              "      <td>Cash loans</td>\n",
              "      <td>47041.335</td>\n",
              "      <td>450000.0</td>\n",
              "      <td>470790.0</td>\n",
              "      <td>NaN</td>\n",
              "      <td>450000.0</td>\n",
              "      <td>MONDAY</td>\n",
              "      <td>7</td>\n",
              "      <td>Y</td>\n",
              "      <td>1</td>\n",
              "      <td>NaN</td>\n",
              "      <td>NaN</td>\n",
              "      <td>NaN</td>\n",
              "      <td>XNA</td>\n",
              "      <td>Approved</td>\n",
              "      <td>-512</td>\n",
              "      <td>Cash through the bank</td>\n",
              "      <td>XAP</td>\n",
              "      <td>NaN</td>\n",
              "      <td>Repeater</td>\n",
              "      <td>XNA</td>\n",
              "      <td>Cash</td>\n",
              "      <td>x-sell</td>\n",
              "      <td>Credit and cash offices</td>\n",
              "      <td>-1</td>\n",
              "      <td>XNA</td>\n",
              "      <td>12.0</td>\n",
              "      <td>middle</td>\n",
              "      <td>Cash X-Sell: middle</td>\n",
              "      <td>365243.0</td>\n",
              "      <td>-482.0</td>\n",
              "      <td>-152.0</td>\n",
              "      <td>-182.0</td>\n",
              "      <td>-177.0</td>\n",
              "      <td>1.0</td>\n",
              "    </tr>\n",
              "    <tr>\n",
              "      <th>4</th>\n",
              "      <td>1784265</td>\n",
              "      <td>202054</td>\n",
              "      <td>Cash loans</td>\n",
              "      <td>31924.395</td>\n",
              "      <td>337500.0</td>\n",
              "      <td>404055.0</td>\n",
              "      <td>NaN</td>\n",
              "      <td>337500.0</td>\n",
              "      <td>THURSDAY</td>\n",
              "      <td>9</td>\n",
              "      <td>Y</td>\n",
              "      <td>1</td>\n",
              "      <td>NaN</td>\n",
              "      <td>NaN</td>\n",
              "      <td>NaN</td>\n",
              "      <td>Repairs</td>\n",
              "      <td>Refused</td>\n",
              "      <td>-781</td>\n",
              "      <td>Cash through the bank</td>\n",
              "      <td>HC</td>\n",
              "      <td>NaN</td>\n",
              "      <td>Repeater</td>\n",
              "      <td>XNA</td>\n",
              "      <td>Cash</td>\n",
              "      <td>walk-in</td>\n",
              "      <td>Credit and cash offices</td>\n",
              "      <td>-1</td>\n",
              "      <td>XNA</td>\n",
              "      <td>24.0</td>\n",
              "      <td>high</td>\n",
              "      <td>Cash Street: high</td>\n",
              "      <td>NaN</td>\n",
              "      <td>NaN</td>\n",
              "      <td>NaN</td>\n",
              "      <td>NaN</td>\n",
              "      <td>NaN</td>\n",
              "      <td>NaN</td>\n",
              "    </tr>\n",
              "  </tbody>\n",
              "</table>\n",
              "</div>"
            ],
            "text/plain": [
              "   SK_ID_PREV  SK_ID_CURR  ... DAYS_TERMINATION  NFLAG_INSURED_ON_APPROVAL\n",
              "0     2030495      271877  ...            -37.0                        0.0\n",
              "1     2802425      108129  ...         365243.0                        1.0\n",
              "2     2523466      122040  ...         365243.0                        1.0\n",
              "3     2819243      176158  ...           -177.0                        1.0\n",
              "4     1784265      202054  ...              NaN                        NaN\n",
              "\n",
              "[5 rows x 37 columns]"
            ]
          },
          "metadata": {
            "tags": []
          },
          "execution_count": 22
        }
      ]
    },
    {
      "cell_type": "markdown",
      "metadata": {
        "id": "z4hJa0ZxB82I",
        "colab_type": "text"
      },
      "source": [
        "Featuring using One-Hot-Encoding and applying groupby function to count and finding average"
      ]
    },
    {
      "cell_type": "code",
      "metadata": {
        "id": "TeH5C6xgsIQU",
        "colab_type": "code",
        "colab": {
          "base_uri": "https://localhost:8080/",
          "height": 34
        },
        "outputId": "a128e6e1-10ee-4099-e765-fb5ff57166c5"
      },
      "source": [
        "prev_appl = onehot(prev_appl)"
      ],
      "execution_count": 17,
      "outputs": [
        {
          "output_type": "stream",
          "text": [
            "(1670214, 164)\n"
          ],
          "name": "stdout"
        }
      ]
    },
    {
      "cell_type": "code",
      "metadata": {
        "id": "90xhOut6dWZx",
        "colab_type": "code",
        "colab": {}
      },
      "source": [
        "prev_appl_avg = prev_appl.groupby('SK_ID_CURR').mean()\n",
        "prev_appl_count = prev_appl[['SK_ID_CURR', 'SK_ID_PREV']].groupby('SK_ID_CURR').count()\n",
        "prev_appl_avg['nb_app'] = prev_appl_count['SK_ID_PREV']\n",
        "del prev_appl_avg['SK_ID_PREV']"
      ],
      "execution_count": 18,
      "outputs": []
    },
    {
      "cell_type": "markdown",
      "metadata": {
        "id": "8Of4UKYAEE_U",
        "colab_type": "text"
      },
      "source": [
        "#Working with POS_CASH_Balance"
      ]
    },
    {
      "cell_type": "code",
      "metadata": {
        "id": "1F32XYMKxYR7",
        "colab_type": "code",
        "colab": {
          "base_uri": "https://localhost:8080/",
          "height": 195
        },
        "outputId": "03b79b4c-d247-4d66-97d9-4cc56c804e19"
      },
      "source": [
        "pos.head()"
      ],
      "execution_count": null,
      "outputs": [
        {
          "output_type": "execute_result",
          "data": {
            "text/html": [
              "<div>\n",
              "<style scoped>\n",
              "    .dataframe tbody tr th:only-of-type {\n",
              "        vertical-align: middle;\n",
              "    }\n",
              "\n",
              "    .dataframe tbody tr th {\n",
              "        vertical-align: top;\n",
              "    }\n",
              "\n",
              "    .dataframe thead th {\n",
              "        text-align: right;\n",
              "    }\n",
              "</style>\n",
              "<table border=\"1\" class=\"dataframe\">\n",
              "  <thead>\n",
              "    <tr style=\"text-align: right;\">\n",
              "      <th></th>\n",
              "      <th>SK_ID_PREV</th>\n",
              "      <th>SK_ID_CURR</th>\n",
              "      <th>MONTHS_BALANCE</th>\n",
              "      <th>CNT_INSTALMENT</th>\n",
              "      <th>CNT_INSTALMENT_FUTURE</th>\n",
              "      <th>NAME_CONTRACT_STATUS</th>\n",
              "      <th>SK_DPD</th>\n",
              "      <th>SK_DPD_DEF</th>\n",
              "    </tr>\n",
              "  </thead>\n",
              "  <tbody>\n",
              "    <tr>\n",
              "      <th>0</th>\n",
              "      <td>1803195</td>\n",
              "      <td>182943</td>\n",
              "      <td>-31</td>\n",
              "      <td>48.0</td>\n",
              "      <td>45.0</td>\n",
              "      <td>Active</td>\n",
              "      <td>0</td>\n",
              "      <td>0</td>\n",
              "    </tr>\n",
              "    <tr>\n",
              "      <th>1</th>\n",
              "      <td>1715348</td>\n",
              "      <td>367990</td>\n",
              "      <td>-33</td>\n",
              "      <td>36.0</td>\n",
              "      <td>35.0</td>\n",
              "      <td>Active</td>\n",
              "      <td>0</td>\n",
              "      <td>0</td>\n",
              "    </tr>\n",
              "    <tr>\n",
              "      <th>2</th>\n",
              "      <td>1784872</td>\n",
              "      <td>397406</td>\n",
              "      <td>-32</td>\n",
              "      <td>12.0</td>\n",
              "      <td>9.0</td>\n",
              "      <td>Active</td>\n",
              "      <td>0</td>\n",
              "      <td>0</td>\n",
              "    </tr>\n",
              "    <tr>\n",
              "      <th>3</th>\n",
              "      <td>1903291</td>\n",
              "      <td>269225</td>\n",
              "      <td>-35</td>\n",
              "      <td>48.0</td>\n",
              "      <td>42.0</td>\n",
              "      <td>Active</td>\n",
              "      <td>0</td>\n",
              "      <td>0</td>\n",
              "    </tr>\n",
              "    <tr>\n",
              "      <th>4</th>\n",
              "      <td>2341044</td>\n",
              "      <td>334279</td>\n",
              "      <td>-35</td>\n",
              "      <td>36.0</td>\n",
              "      <td>35.0</td>\n",
              "      <td>Active</td>\n",
              "      <td>0</td>\n",
              "      <td>0</td>\n",
              "    </tr>\n",
              "  </tbody>\n",
              "</table>\n",
              "</div>"
            ],
            "text/plain": [
              "   SK_ID_PREV  SK_ID_CURR  ...  SK_DPD  SK_DPD_DEF\n",
              "0     1803195      182943  ...       0           0\n",
              "1     1715348      367990  ...       0           0\n",
              "2     1784872      397406  ...       0           0\n",
              "3     1903291      269225  ...       0           0\n",
              "4     2341044      334279  ...       0           0\n",
              "\n",
              "[5 rows x 8 columns]"
            ]
          },
          "metadata": {
            "tags": []
          },
          "execution_count": 29
        }
      ]
    },
    {
      "cell_type": "code",
      "metadata": {
        "id": "w_yDku4L3xy4",
        "colab_type": "code",
        "colab": {
          "base_uri": "https://localhost:8080/",
          "height": 185
        },
        "outputId": "153a8b62-b8a0-4c7c-b6eb-6b8657f8dda5"
      },
      "source": [
        "pos.NAME_CONTRACT_STATUS.value_counts()"
      ],
      "execution_count": null,
      "outputs": [
        {
          "output_type": "execute_result",
          "data": {
            "text/plain": [
              "Active                   9151119\n",
              "Completed                 744883\n",
              "Signed                     87260\n",
              "Demand                      7065\n",
              "Returned to the store       5461\n",
              "Approved                    4917\n",
              "Amortized debt               636\n",
              "Canceled                      15\n",
              "XNA                            2\n",
              "Name: NAME_CONTRACT_STATUS, dtype: int64"
            ]
          },
          "metadata": {
            "tags": []
          },
          "execution_count": 37
        }
      ]
    },
    {
      "cell_type": "code",
      "metadata": {
        "id": "Ag_nyAPU37x6",
        "colab_type": "code",
        "colab": {}
      },
      "source": [
        "le = LabelEncoder()\n",
        "pos['NAME_CONTRACT_STATUS'] = le.fit_transform(pos['NAME_CONTRACT_STATUS'].astype(str))\n",
        "pos['UNIQUE_STATUS_COUNT'] = pos[['SK_ID_CURR', 'NAME_CONTRACT_STATUS']].groupby('SK_ID_CURR').nunique()['NAME_CONTRACT_STATUS']\n",
        "pos['UNIQUE_STATUS_MAX'] = pos[['SK_ID_CURR', 'NAME_CONTRACT_STATUS']].groupby('SK_ID_CURR').max()['NAME_CONTRACT_STATUS']\n",
        "pos.drop(['SK_ID_PREV', 'NAME_CONTRACT_STATUS'], axis=1, inplace=True)\n",
        "pos_average=pos.groupby('SK_ID_CURR').mean()"
      ],
      "execution_count": 19,
      "outputs": []
    },
    {
      "cell_type": "markdown",
      "metadata": {
        "id": "8PpzsK5ZzKyI",
        "colab_type": "text"
      },
      "source": [
        "#Working with credit_card_balance"
      ]
    },
    {
      "cell_type": "code",
      "metadata": {
        "id": "dEqbYdA64RgV",
        "colab_type": "code",
        "colab": {
          "base_uri": "https://localhost:8080/",
          "height": 215
        },
        "outputId": "be69fb97-8ac5-4196-cb31-8b821bdd122a"
      },
      "source": [
        "ccb.head()"
      ],
      "execution_count": null,
      "outputs": [
        {
          "output_type": "execute_result",
          "data": {
            "text/html": [
              "<div>\n",
              "<style scoped>\n",
              "    .dataframe tbody tr th:only-of-type {\n",
              "        vertical-align: middle;\n",
              "    }\n",
              "\n",
              "    .dataframe tbody tr th {\n",
              "        vertical-align: top;\n",
              "    }\n",
              "\n",
              "    .dataframe thead th {\n",
              "        text-align: right;\n",
              "    }\n",
              "</style>\n",
              "<table border=\"1\" class=\"dataframe\">\n",
              "  <thead>\n",
              "    <tr style=\"text-align: right;\">\n",
              "      <th></th>\n",
              "      <th>SK_ID_PREV</th>\n",
              "      <th>SK_ID_CURR</th>\n",
              "      <th>MONTHS_BALANCE</th>\n",
              "      <th>AMT_BALANCE</th>\n",
              "      <th>AMT_CREDIT_LIMIT_ACTUAL</th>\n",
              "      <th>AMT_DRAWINGS_ATM_CURRENT</th>\n",
              "      <th>AMT_DRAWINGS_CURRENT</th>\n",
              "      <th>AMT_DRAWINGS_OTHER_CURRENT</th>\n",
              "      <th>AMT_DRAWINGS_POS_CURRENT</th>\n",
              "      <th>AMT_INST_MIN_REGULARITY</th>\n",
              "      <th>AMT_PAYMENT_CURRENT</th>\n",
              "      <th>AMT_PAYMENT_TOTAL_CURRENT</th>\n",
              "      <th>AMT_RECEIVABLE_PRINCIPAL</th>\n",
              "      <th>AMT_RECIVABLE</th>\n",
              "      <th>AMT_TOTAL_RECEIVABLE</th>\n",
              "      <th>CNT_DRAWINGS_ATM_CURRENT</th>\n",
              "      <th>CNT_DRAWINGS_CURRENT</th>\n",
              "      <th>CNT_DRAWINGS_OTHER_CURRENT</th>\n",
              "      <th>CNT_DRAWINGS_POS_CURRENT</th>\n",
              "      <th>CNT_INSTALMENT_MATURE_CUM</th>\n",
              "      <th>NAME_CONTRACT_STATUS</th>\n",
              "      <th>SK_DPD</th>\n",
              "      <th>SK_DPD_DEF</th>\n",
              "    </tr>\n",
              "  </thead>\n",
              "  <tbody>\n",
              "    <tr>\n",
              "      <th>0</th>\n",
              "      <td>2562384</td>\n",
              "      <td>378907</td>\n",
              "      <td>-6</td>\n",
              "      <td>56.970</td>\n",
              "      <td>135000</td>\n",
              "      <td>0.0</td>\n",
              "      <td>877.5</td>\n",
              "      <td>0.0</td>\n",
              "      <td>877.5</td>\n",
              "      <td>1700.325</td>\n",
              "      <td>1800.0</td>\n",
              "      <td>1800.0</td>\n",
              "      <td>0.000</td>\n",
              "      <td>0.000</td>\n",
              "      <td>0.000</td>\n",
              "      <td>0.0</td>\n",
              "      <td>1</td>\n",
              "      <td>0.0</td>\n",
              "      <td>1.0</td>\n",
              "      <td>35.0</td>\n",
              "      <td>Active</td>\n",
              "      <td>0</td>\n",
              "      <td>0</td>\n",
              "    </tr>\n",
              "    <tr>\n",
              "      <th>1</th>\n",
              "      <td>2582071</td>\n",
              "      <td>363914</td>\n",
              "      <td>-1</td>\n",
              "      <td>63975.555</td>\n",
              "      <td>45000</td>\n",
              "      <td>2250.0</td>\n",
              "      <td>2250.0</td>\n",
              "      <td>0.0</td>\n",
              "      <td>0.0</td>\n",
              "      <td>2250.000</td>\n",
              "      <td>2250.0</td>\n",
              "      <td>2250.0</td>\n",
              "      <td>60175.080</td>\n",
              "      <td>64875.555</td>\n",
              "      <td>64875.555</td>\n",
              "      <td>1.0</td>\n",
              "      <td>1</td>\n",
              "      <td>0.0</td>\n",
              "      <td>0.0</td>\n",
              "      <td>69.0</td>\n",
              "      <td>Active</td>\n",
              "      <td>0</td>\n",
              "      <td>0</td>\n",
              "    </tr>\n",
              "    <tr>\n",
              "      <th>2</th>\n",
              "      <td>1740877</td>\n",
              "      <td>371185</td>\n",
              "      <td>-7</td>\n",
              "      <td>31815.225</td>\n",
              "      <td>450000</td>\n",
              "      <td>0.0</td>\n",
              "      <td>0.0</td>\n",
              "      <td>0.0</td>\n",
              "      <td>0.0</td>\n",
              "      <td>2250.000</td>\n",
              "      <td>2250.0</td>\n",
              "      <td>2250.0</td>\n",
              "      <td>26926.425</td>\n",
              "      <td>31460.085</td>\n",
              "      <td>31460.085</td>\n",
              "      <td>0.0</td>\n",
              "      <td>0</td>\n",
              "      <td>0.0</td>\n",
              "      <td>0.0</td>\n",
              "      <td>30.0</td>\n",
              "      <td>Active</td>\n",
              "      <td>0</td>\n",
              "      <td>0</td>\n",
              "    </tr>\n",
              "    <tr>\n",
              "      <th>3</th>\n",
              "      <td>1389973</td>\n",
              "      <td>337855</td>\n",
              "      <td>-4</td>\n",
              "      <td>236572.110</td>\n",
              "      <td>225000</td>\n",
              "      <td>2250.0</td>\n",
              "      <td>2250.0</td>\n",
              "      <td>0.0</td>\n",
              "      <td>0.0</td>\n",
              "      <td>11795.760</td>\n",
              "      <td>11925.0</td>\n",
              "      <td>11925.0</td>\n",
              "      <td>224949.285</td>\n",
              "      <td>233048.970</td>\n",
              "      <td>233048.970</td>\n",
              "      <td>1.0</td>\n",
              "      <td>1</td>\n",
              "      <td>0.0</td>\n",
              "      <td>0.0</td>\n",
              "      <td>10.0</td>\n",
              "      <td>Active</td>\n",
              "      <td>0</td>\n",
              "      <td>0</td>\n",
              "    </tr>\n",
              "    <tr>\n",
              "      <th>4</th>\n",
              "      <td>1891521</td>\n",
              "      <td>126868</td>\n",
              "      <td>-1</td>\n",
              "      <td>453919.455</td>\n",
              "      <td>450000</td>\n",
              "      <td>0.0</td>\n",
              "      <td>11547.0</td>\n",
              "      <td>0.0</td>\n",
              "      <td>11547.0</td>\n",
              "      <td>22924.890</td>\n",
              "      <td>27000.0</td>\n",
              "      <td>27000.0</td>\n",
              "      <td>443044.395</td>\n",
              "      <td>453919.455</td>\n",
              "      <td>453919.455</td>\n",
              "      <td>0.0</td>\n",
              "      <td>1</td>\n",
              "      <td>0.0</td>\n",
              "      <td>1.0</td>\n",
              "      <td>101.0</td>\n",
              "      <td>Active</td>\n",
              "      <td>0</td>\n",
              "      <td>0</td>\n",
              "    </tr>\n",
              "  </tbody>\n",
              "</table>\n",
              "</div>"
            ],
            "text/plain": [
              "   SK_ID_PREV  SK_ID_CURR  ...  SK_DPD  SK_DPD_DEF\n",
              "0     2562384      378907  ...       0           0\n",
              "1     2582071      363914  ...       0           0\n",
              "2     1740877      371185  ...       0           0\n",
              "3     1389973      337855  ...       0           0\n",
              "4     1891521      126868  ...       0           0\n",
              "\n",
              "[5 rows x 23 columns]"
            ]
          },
          "metadata": {
            "tags": []
          },
          "execution_count": 32
        }
      ]
    },
    {
      "cell_type": "code",
      "metadata": {
        "id": "khVhb-983A-i",
        "colab_type": "code",
        "colab": {}
      },
      "source": [
        "ccb['NAME_CONTRACT_STATUS'] = le.fit_transform(ccb['NAME_CONTRACT_STATUS'].astype(str))\n",
        "ccb['UNIQUE_STATUS_COUNT'] = ccb[['SK_ID_CURR', 'NAME_CONTRACT_STATUS']].groupby(\"SK_ID_CURR\").nunique()[\"NAME_CONTRACT_STATUS\"]\n",
        "ccb['UNIQUE_STATUS2_MAX'] = ccb[['SK_ID_CURR', 'NAME_CONTRACT_STATUS']].groupby('SK_ID_CURR').max()\n",
        "ccb.drop(['SK_ID_PREV', 'NAME_CONTRACT_STATUS'], axis=1, inplace=True)\n",
        "ccb_average = ccb.groupby('SK_ID_CURR').mean()"
      ],
      "execution_count": 20,
      "outputs": []
    },
    {
      "cell_type": "markdown",
      "metadata": {
        "id": "ohY_qP8mA8X8",
        "colab_type": "text"
      },
      "source": [
        "#Working with installments_payments"
      ]
    },
    {
      "cell_type": "code",
      "metadata": {
        "id": "ja8iEbxT6HfP",
        "colab_type": "code",
        "colab": {
          "base_uri": "https://localhost:8080/",
          "height": 195
        },
        "outputId": "7d2933d6-5391-4388-e495-ff9a05995744"
      },
      "source": [
        "inp.head()"
      ],
      "execution_count": null,
      "outputs": [
        {
          "output_type": "execute_result",
          "data": {
            "text/html": [
              "<div>\n",
              "<style scoped>\n",
              "    .dataframe tbody tr th:only-of-type {\n",
              "        vertical-align: middle;\n",
              "    }\n",
              "\n",
              "    .dataframe tbody tr th {\n",
              "        vertical-align: top;\n",
              "    }\n",
              "\n",
              "    .dataframe thead th {\n",
              "        text-align: right;\n",
              "    }\n",
              "</style>\n",
              "<table border=\"1\" class=\"dataframe\">\n",
              "  <thead>\n",
              "    <tr style=\"text-align: right;\">\n",
              "      <th></th>\n",
              "      <th>SK_ID_PREV</th>\n",
              "      <th>SK_ID_CURR</th>\n",
              "      <th>NUM_INSTALMENT_VERSION</th>\n",
              "      <th>NUM_INSTALMENT_NUMBER</th>\n",
              "      <th>DAYS_INSTALMENT</th>\n",
              "      <th>DAYS_ENTRY_PAYMENT</th>\n",
              "      <th>AMT_INSTALMENT</th>\n",
              "      <th>AMT_PAYMENT</th>\n",
              "    </tr>\n",
              "  </thead>\n",
              "  <tbody>\n",
              "    <tr>\n",
              "      <th>0</th>\n",
              "      <td>1054186</td>\n",
              "      <td>161674</td>\n",
              "      <td>1.0</td>\n",
              "      <td>6</td>\n",
              "      <td>-1180.0</td>\n",
              "      <td>-1187.0</td>\n",
              "      <td>6948.360</td>\n",
              "      <td>6948.360</td>\n",
              "    </tr>\n",
              "    <tr>\n",
              "      <th>1</th>\n",
              "      <td>1330831</td>\n",
              "      <td>151639</td>\n",
              "      <td>0.0</td>\n",
              "      <td>34</td>\n",
              "      <td>-2156.0</td>\n",
              "      <td>-2156.0</td>\n",
              "      <td>1716.525</td>\n",
              "      <td>1716.525</td>\n",
              "    </tr>\n",
              "    <tr>\n",
              "      <th>2</th>\n",
              "      <td>2085231</td>\n",
              "      <td>193053</td>\n",
              "      <td>2.0</td>\n",
              "      <td>1</td>\n",
              "      <td>-63.0</td>\n",
              "      <td>-63.0</td>\n",
              "      <td>25425.000</td>\n",
              "      <td>25425.000</td>\n",
              "    </tr>\n",
              "    <tr>\n",
              "      <th>3</th>\n",
              "      <td>2452527</td>\n",
              "      <td>199697</td>\n",
              "      <td>1.0</td>\n",
              "      <td>3</td>\n",
              "      <td>-2418.0</td>\n",
              "      <td>-2426.0</td>\n",
              "      <td>24350.130</td>\n",
              "      <td>24350.130</td>\n",
              "    </tr>\n",
              "    <tr>\n",
              "      <th>4</th>\n",
              "      <td>2714724</td>\n",
              "      <td>167756</td>\n",
              "      <td>1.0</td>\n",
              "      <td>2</td>\n",
              "      <td>-1383.0</td>\n",
              "      <td>-1366.0</td>\n",
              "      <td>2165.040</td>\n",
              "      <td>2160.585</td>\n",
              "    </tr>\n",
              "  </tbody>\n",
              "</table>\n",
              "</div>"
            ],
            "text/plain": [
              "   SK_ID_PREV  SK_ID_CURR  ...  AMT_INSTALMENT  AMT_PAYMENT\n",
              "0     1054186      161674  ...        6948.360     6948.360\n",
              "1     1330831      151639  ...        1716.525     1716.525\n",
              "2     2085231      193053  ...       25425.000    25425.000\n",
              "3     2452527      199697  ...       24350.130    24350.130\n",
              "4     2714724      167756  ...        2165.040     2160.585\n",
              "\n",
              "[5 rows x 8 columns]"
            ]
          },
          "metadata": {
            "tags": []
          },
          "execution_count": 35
        }
      ]
    },
    {
      "cell_type": "code",
      "metadata": {
        "id": "xlPoQV7P6Rwy",
        "colab_type": "code",
        "colab": {}
      },
      "source": [
        "inp_avg = inp.groupby('SK_ID_CURR').mean()\n",
        "inp_max = inp.groupby('SK_ID_CURR').max()\n",
        "inp_min = inp.groupby('SK_ID_CURR').min()\n",
        "del inp_avg['SK_ID_PREV']"
      ],
      "execution_count": 21,
      "outputs": []
    },
    {
      "cell_type": "code",
      "metadata": {
        "id": "EsEgUc_V6f9h",
        "colab_type": "code",
        "colab": {}
      },
      "source": [
        "app_train = app_train.merge(right=prev_appl_avg.reset_index(), how='left', on='SK_ID_CURR')\n",
        "app_test = app_test.merge(right=prev_appl_avg.reset_index(), how='left', on='SK_ID_CURR')"
      ],
      "execution_count": 22,
      "outputs": []
    },
    {
      "cell_type": "code",
      "metadata": {
        "id": "ZrgY2QqZ7RCG",
        "colab_type": "code",
        "colab": {}
      },
      "source": [
        "app_train = app_train.merge(right = bureau_avg.reset_index(), how=\"left\", on=\"SK_ID_CURR\")\n",
        "app_test = app_test.merge(right = bureau_avg.reset_index(), how = \"left\", on=\"SK_ID_CURR\")"
      ],
      "execution_count": 23,
      "outputs": []
    },
    {
      "cell_type": "code",
      "metadata": {
        "id": "OAf3NVV_8AUR",
        "colab_type": "code",
        "colab": {}
      },
      "source": [
        "app_train = app_train.merge(pos_average.reset_index(), how='left', on='SK_ID_CURR')\n",
        "app_test = app_test.merge(pos_average.reset_index(), how='left', on='SK_ID_CURR')"
      ],
      "execution_count": 24,
      "outputs": []
    },
    {
      "cell_type": "code",
      "metadata": {
        "id": "sfsic1OD8OwT",
        "colab_type": "code",
        "colab": {}
      },
      "source": [
        "app_train = app_train.merge(ccb_average.reset_index(), how='left', on='SK_ID_CURR')\n",
        "app_test = app_test.merge(ccb_average.reset_index(), how='left', on='SK_ID_CURR')\n"
      ],
      "execution_count": 25,
      "outputs": []
    },
    {
      "cell_type": "code",
      "metadata": {
        "id": "yMhZqPLb8fG-",
        "colab_type": "code",
        "colab": {}
      },
      "source": [
        "app_train = app_train.merge(right=inp_avg.reset_index(), how='left', on='SK_ID_CURR')\n",
        "app_test = app_test.merge(right=inp_avg.reset_index(), how='left', on='SK_ID_CURR')"
      ],
      "execution_count": 26,
      "outputs": []
    },
    {
      "cell_type": "code",
      "metadata": {
        "id": "XWmHAXdn8zYh",
        "colab_type": "code",
        "colab": {}
      },
      "source": [
        "app_train = app_train.merge(right=inp_max.reset_index(), how='left', on='SK_ID_CURR')\n",
        "app_test = app_test.merge(right=inp_max.reset_index(), how='left', on='SK_ID_CURR')\n"
      ],
      "execution_count": 27,
      "outputs": []
    },
    {
      "cell_type": "code",
      "metadata": {
        "id": "5QVEVfXB892m",
        "colab_type": "code",
        "colab": {}
      },
      "source": [
        "app_train = app_train.merge(right=inp_min.reset_index(), how='left', on='SK_ID_CURR')\n",
        "app_test = app_test.merge(right=inp_min.reset_index(), how='left', on='SK_ID_CURR')"
      ],
      "execution_count": 28,
      "outputs": []
    },
    {
      "cell_type": "code",
      "metadata": {
        "id": "5wbrOeMs0dq-",
        "colab_type": "code",
        "colab": {}
      },
      "source": [
        "del prev_appl_avg, bureau_avg, pos, ccb, inp_avg, inp_max, inp_min"
      ],
      "execution_count": 29,
      "outputs": []
    },
    {
      "cell_type": "code",
      "metadata": {
        "id": "mjK_VCy29Kh3",
        "colab_type": "code",
        "colab": {}
      },
      "source": [
        "del app_train[\"TARGET\"]"
      ],
      "execution_count": 30,
      "outputs": []
    },
    {
      "cell_type": "code",
      "metadata": {
        "id": "kugsWUAI99B0",
        "colab_type": "code",
        "colab": {
          "base_uri": "https://localhost:8080/",
          "height": 34
        },
        "outputId": "3c169a8b-0253-4b36-9c7a-3aa44fea6f8b"
      },
      "source": [
        "app_train.shape"
      ],
      "execution_count": 31,
      "outputs": [
        {
          "output_type": "execute_result",
          "data": {
            "text/plain": [
              "(307511, 505)"
            ]
          },
          "metadata": {
            "tags": []
          },
          "execution_count": 31
        }
      ]
    },
    {
      "cell_type": "code",
      "metadata": {
        "id": "VoQWCnj99T8J",
        "colab_type": "code",
        "colab": {
          "base_uri": "https://localhost:8080/",
          "height": 34
        },
        "outputId": "8ed47f6b-7f5c-485c-d292-59590dcab99a"
      },
      "source": [
        "app_test.shape"
      ],
      "execution_count": 32,
      "outputs": [
        {
          "output_type": "execute_result",
          "data": {
            "text/plain": [
              "(48744, 505)"
            ]
          },
          "metadata": {
            "tags": []
          },
          "execution_count": 32
        }
      ]
    },
    {
      "cell_type": "code",
      "metadata": {
        "id": "YaC9_8nV9Ws2",
        "colab_type": "code",
        "colab": {
          "base_uri": "https://localhost:8080/",
          "height": 34
        },
        "outputId": "ee90bf06-1536-45fa-e291-997ca2de10a5"
      },
      "source": [
        "app_train_target.shape"
      ],
      "execution_count": 33,
      "outputs": [
        {
          "output_type": "execute_result",
          "data": {
            "text/plain": [
              "(307511,)"
            ]
          },
          "metadata": {
            "tags": []
          },
          "execution_count": 33
        }
      ]
    },
    {
      "cell_type": "markdown",
      "metadata": {
        "id": "XbeE9LjvIs9h",
        "colab_type": "text"
      },
      "source": [
        "#LightGBM"
      ]
    },
    {
      "cell_type": "code",
      "metadata": {
        "id": "sWTq2vg97crk",
        "colab_type": "code",
        "colab": {}
      },
      "source": [
        "from lightgbm import LGBMClassifier\n",
        "lgb = LGBMClassifier()\n",
        "lgb.fit(app_train, app_train_target)\n",
        "predictions = lgb.predict_proba(app_test)[:,1]\n",
        "output = app_test[['SK_ID_CURR']].astype(int)\n",
        "output['TARGET'] = predictions"
      ],
      "execution_count": 41,
      "outputs": []
    },
    {
      "cell_type": "code",
      "metadata": {
        "id": "RGhNcVRkge-i",
        "colab_type": "code",
        "colab": {
          "base_uri": "https://localhost:8080/",
          "height": 298
        },
        "outputId": "c8ccb3b3-f386-421c-841e-c85b105625fb"
      },
      "source": [
        "p=lgb.predict_proba(app_train)[:,1]\n",
        "print(roc_auc_score(app_train_target,p))\n",
        "fpr,tpr,thr=roc_curve(app_train_target,p)\n",
        "plt.figure()\n",
        "plt.plot(fpr,tpr)"
      ],
      "execution_count": 42,
      "outputs": [
        {
          "output_type": "stream",
          "text": [
            "0.8212164179701583\n"
          ],
          "name": "stdout"
        },
        {
          "output_type": "execute_result",
          "data": {
            "text/plain": [
              "[<matplotlib.lines.Line2D at 0x7fd0734184e0>]"
            ]
          },
          "metadata": {
            "tags": []
          },
          "execution_count": 42
        },
        {
          "output_type": "display_data",
          "data": {
            "image/png": "[encoded data removed]",
            "text/plain": [
              "<Figure size 432x288 with 1 Axes>"
            ]
          },
          "metadata": {
            "tags": [],
            "needs_background": "light"
          }
        }
      ]
    },
    {
      "cell_type": "code",
      "metadata": {
        "id": "ftd2lShfwjGb",
        "colab_type": "code",
        "colab": {}
      },
      "source": [
        "output.to_csv(\"/content/drive/My Drive/FDS/lightgbm.csv\", index=False)"
      ],
      "execution_count": 43,
      "outputs": []
    }
  ]
}